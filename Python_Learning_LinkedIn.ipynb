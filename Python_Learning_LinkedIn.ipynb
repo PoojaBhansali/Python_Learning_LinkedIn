{
 "cells": [
  {
   "cell_type": "code",
   "execution_count": 1,
   "metadata": {},
   "outputs": [],
   "source": [
    "#what you should already know"
   ]
  },
  {
   "cell_type": "code",
   "execution_count": 2,
   "metadata": {},
   "outputs": [],
   "source": [
    "\n",
    "#functions:\n",
    "#statements:\n"
   ]
  },
  {
   "cell_type": "code",
   "execution_count": 3,
   "metadata": {},
   "outputs": [
    {
     "name": "stdout",
     "output_type": "stream",
     "text": [
      "Hello World\n"
     ]
    }
   ],
   "source": [
    "print('Hello World')"
   ]
  },
  {
   "cell_type": "code",
   "execution_count": 5,
   "metadata": {},
   "outputs": [
    {
     "name": "stdout",
     "output_type": "stream",
     "text": [
      "Hello World\n"
     ]
    }
   ],
   "source": [
    "def main():\n",
    "    print('Hello World')\n",
    "\n",
    "if __name__ == \"__main__\":\n",
    "    main()"
   ]
  },
  {
   "cell_type": "code",
   "execution_count": 7,
   "metadata": {},
   "outputs": [],
   "source": [
    "#variables:"
   ]
  },
  {
   "cell_type": "code",
   "execution_count": 8,
   "metadata": {},
   "outputs": [
    {
     "name": "stdout",
     "output_type": "stream",
     "text": [
      "0\n"
     ]
    }
   ],
   "source": [
    "#declare a variable\n",
    "f = 0 #integer\n",
    "print(f)"
   ]
  },
  {
   "cell_type": "code",
   "execution_count": 9,
   "metadata": {},
   "outputs": [
    {
     "name": "stdout",
     "output_type": "stream",
     "text": [
      "abc\n"
     ]
    }
   ],
   "source": [
    "#redeclare a variable\n",
    "f = 'abc' #string\n",
    "print(f)"
   ]
  },
  {
   "cell_type": "code",
   "execution_count": 12,
   "metadata": {},
   "outputs": [
    {
     "name": "stdout",
     "output_type": "stream",
     "text": [
      "this is string 123\n"
     ]
    }
   ],
   "source": [
    "print(\"this is string \"  + str(123))"
   ]
  },
  {
   "cell_type": "code",
   "execution_count": 14,
   "metadata": {},
   "outputs": [
    {
     "name": "stdout",
     "output_type": "stream",
     "text": [
      "def\n",
      "0\n"
     ]
    }
   ],
   "source": [
    "#global vs local variables in functions\n",
    "f = 0\n",
    "def someFunction():\n",
    "    f = 'def'\n",
    "    print(f)\n",
    "someFunction()\n",
    "print(f)\n",
    "#this two f are different"
   ]
  },
  {
   "cell_type": "code",
   "execution_count": 15,
   "metadata": {},
   "outputs": [
    {
     "name": "stdout",
     "output_type": "stream",
     "text": [
      "def\n",
      "def\n"
     ]
    }
   ],
   "source": [
    "#global vs local variables in functions\n",
    "f = 0\n",
    "def someFunction():\n",
    "    global f\n",
    "    f = 'def'\n",
    "    print(f)\n",
    "someFunction()\n",
    "print(f)\n"
   ]
  },
  {
   "cell_type": "code",
   "execution_count": 17,
   "metadata": {},
   "outputs": [],
   "source": [
    "#Functions"
   ]
  },
  {
   "cell_type": "code",
   "execution_count": 18,
   "metadata": {},
   "outputs": [
    {
     "name": "stdout",
     "output_type": "stream",
     "text": [
      "this is functions\n",
      "this is functions\n",
      "None\n",
      "<function funct1 at 0x106f422f0>\n"
     ]
    }
   ],
   "source": [
    "#define a basic functions:\n",
    "def funct1():\n",
    "    print(\"this is functions\")\n",
    "funct1()\n",
    "print(funct1())\n",
    "print(funct1)"
   ]
  },
  {
   "cell_type": "code",
   "execution_count": 19,
   "metadata": {},
   "outputs": [],
   "source": [
    "def funct2(arg1, arg2):\n",
    "    print(arg1, \" \", arg2)\n",
    "\n",
    "    \n",
    "def cube(x):\n",
    "    return x*x*x"
   ]
  },
  {
   "cell_type": "code",
   "execution_count": 20,
   "metadata": {},
   "outputs": [
    {
     "name": "stdout",
     "output_type": "stream",
     "text": [
      "10   20\n",
      "10   20\n",
      "None\n",
      "27\n"
     ]
    }
   ],
   "source": [
    "funct2(10,20)\n",
    "print(funct2(10,20))\n",
    "print(cube(3))"
   ]
  },
  {
   "cell_type": "code",
   "execution_count": 24,
   "metadata": {},
   "outputs": [],
   "source": [
    "def power (num, x = 1):\n",
    "    result = 1\n",
    "    \n",
    "    for i in range (x):\n",
    "        result = result * num\n",
    "    return result"
   ]
  },
  {
   "cell_type": "code",
   "execution_count": 28,
   "metadata": {},
   "outputs": [
    {
     "name": "stdout",
     "output_type": "stream",
     "text": [
      "2\n",
      "8\n",
      "16\n",
      "8\n"
     ]
    }
   ],
   "source": [
    "print(power(2))\n",
    "print(power(2,3))\n",
    "print(power(2,4))\n",
    "print(power(x = 3, num = 2))"
   ]
  },
  {
   "cell_type": "code",
   "execution_count": 48,
   "metadata": {},
   "outputs": [],
   "source": [
    "def multi_add(*args):\n",
    "    result = 0\n",
    "    for i in args:\n",
    "        result = result + i\n",
    "    return result"
   ]
  },
  {
   "cell_type": "code",
   "execution_count": 49,
   "metadata": {},
   "outputs": [
    {
     "name": "stdout",
     "output_type": "stream",
     "text": [
      "23\n"
     ]
    }
   ],
   "source": [
    "print(multi_add(4,5,10,4))"
   ]
  },
  {
   "cell_type": "code",
   "execution_count": 50,
   "metadata": {},
   "outputs": [],
   "source": [
    "#Condition Structures:"
   ]
  },
  {
   "cell_type": "code",
   "execution_count": 62,
   "metadata": {},
   "outputs": [
    {
     "ename": "IndentationError",
     "evalue": "unexpected indent (<ipython-input-62-e782a075d42c>, line 14)",
     "output_type": "error",
     "traceback": [
      "\u001b[0;36m  File \u001b[0;32m\"<ipython-input-62-e782a075d42c>\"\u001b[0;36m, line \u001b[0;32m14\u001b[0m\n\u001b[0;31m    st = \"x is less than y\" if (x<y) else \"x is greater or equal to y\"\u001b[0m\n\u001b[0m    ^\u001b[0m\n\u001b[0;31mIndentationError\u001b[0m\u001b[0;31m:\u001b[0m unexpected indent\n"
     ]
    }
   ],
   "source": [
    "def main():\n",
    "    x,y = 100, 100\n",
    "    \n",
    "    if (x < y):\n",
    "        st = \"x is less than y\" \n",
    "    elif (x == y):\n",
    "        st = \"x is equla to y\"\n",
    "    else:\n",
    "        st = \"x is greater than y\"\n",
    "        \n",
    "   \n",
    "    print(st)\n",
    "        \n",
    "main()"
   ]
  },
  {
   "cell_type": "code",
   "execution_count": 66,
   "metadata": {},
   "outputs": [
    {
     "name": "stdout",
     "output_type": "stream",
     "text": [
      "x is less than y\n"
     ]
    }
   ],
   "source": [
    "def main():\n",
    "    x,y = 10, 100\n",
    "    st = \"x is less than y\" if (x<y) else \"x is greater or equal to y\"\n",
    "    print(st)    \n",
    "main()"
   ]
  },
  {
   "cell_type": "code",
   "execution_count": 67,
   "metadata": {},
   "outputs": [],
   "source": [
    "#Loops"
   ]
  },
  {
   "cell_type": "code",
   "execution_count": 68,
   "metadata": {},
   "outputs": [
    {
     "name": "stdout",
     "output_type": "stream",
     "text": [
      "0\n",
      "1\n",
      "2\n",
      "3\n",
      "4\n"
     ]
    }
   ],
   "source": [
    "def main():\n",
    "    x = 0\n",
    "    while (x<5):\n",
    "        print(x)\n",
    "        x = x+1\n",
    "main()"
   ]
  },
  {
   "cell_type": "code",
   "execution_count": 74,
   "metadata": {},
   "outputs": [
    {
     "name": "stdout",
     "output_type": "stream",
     "text": [
      "0\n",
      "1\n",
      "2\n",
      "3\n",
      "4\n"
     ]
    }
   ],
   "source": [
    "def main():\n",
    "    x = 0\n",
    "    for x in range(5):\n",
    "        print(x)\n",
    "        \n",
    "main()"
   ]
  },
  {
   "cell_type": "code",
   "execution_count": 75,
   "metadata": {},
   "outputs": [
    {
     "name": "stdout",
     "output_type": "stream",
     "text": [
      "Mon\n",
      "Tue\n",
      "Wed\n",
      "Thur\n",
      "Fri\n",
      "Sat\n",
      "Sun\n"
     ]
    }
   ],
   "source": [
    "days = [\"Mon\", \"Tue\", \"Wed\", \"Thur\", \"Fri\", \"Sat\", \"Sun\"]\n",
    "for i in days:\n",
    "    print(i)"
   ]
  },
  {
   "cell_type": "code",
   "execution_count": 79,
   "metadata": {},
   "outputs": [
    {
     "name": "stdout",
     "output_type": "stream",
     "text": [
      "5\n",
      "6\n"
     ]
    }
   ],
   "source": [
    "for x in range(5,10):\n",
    "    if (x == 7): break\n",
    "    print(x)"
   ]
  },
  {
   "cell_type": "code",
   "execution_count": 80,
   "metadata": {},
   "outputs": [
    {
     "name": "stdout",
     "output_type": "stream",
     "text": [
      "5\n",
      "7\n",
      "9\n"
     ]
    }
   ],
   "source": [
    "for x in range(5,10):\n",
    "    if (x % 2 == 0): continue\n",
    "    print(x)"
   ]
  },
  {
   "cell_type": "code",
   "execution_count": 82,
   "metadata": {},
   "outputs": [
    {
     "name": "stdout",
     "output_type": "stream",
     "text": [
      "1 Mon\n",
      "2 Tue\n",
      "3 Wed\n",
      "4 Thur\n",
      "5 Fri\n",
      "6 Sat\n",
      "7 Sun\n"
     ]
    }
   ],
   "source": [
    "days = [\"Mon\", \"Tue\", \"Wed\", \"Thur\", \"Fri\", \"Sat\", \"Sun\"]\n",
    "for d, i in enumerate(days):\n",
    "    d = d+1\n",
    "    print(d,i)"
   ]
  },
  {
   "cell_type": "code",
   "execution_count": 83,
   "metadata": {},
   "outputs": [],
   "source": [
    "#Classes"
   ]
  },
  {
   "cell_type": "code",
   "execution_count": 93,
   "metadata": {},
   "outputs": [
    {
     "name": "stdout",
     "output_type": "stream",
     "text": [
      "My Class Method\n",
      "My Class Method - This is string\n",
      "AnotherClass Method\n",
      "AnotherClass Method \n"
     ]
    }
   ],
   "source": [
    "class myClass():\n",
    "    def method(self):\n",
    "        print(\"My Class Method\")\n",
    "        \n",
    "    def method1(self, someString):\n",
    "        print(\"My Class Method \" + someString)\n",
    "        \n",
    "class anotherClass(myClass):\n",
    "    def method(self):\n",
    "        print(\"AnotherClass Method\")\n",
    "        \n",
    "    def method1(self, someString):\n",
    "        print(\"AnotherClass Method \")\n",
    "        \n",
    "def main():\n",
    "    c = myClass()\n",
    "    c.method()\n",
    "    c.method1(\"- This is string\")\n",
    "    \n",
    "    c2 = anotherClass()\n",
    "    c2.method()\n",
    "    c2.method1(\"- This is string\")\n",
    "    \n",
    "    \n",
    "if __name__ == \"__main__\":\n",
    "    main()"
   ]
  },
  {
   "cell_type": "code",
   "execution_count": 94,
   "metadata": {},
   "outputs": [
    {
     "name": "stdout",
     "output_type": "stream",
     "text": [
      "My Class Method\n",
      "My Class Method - This is string\n",
      "My Class Method\n",
      "AnotherClass Method\n",
      "AnotherClass Method \n"
     ]
    }
   ],
   "source": [
    "class myClass():\n",
    "    def method(self):\n",
    "        print(\"My Class Method\")\n",
    "        \n",
    "    def method1(self, someString):\n",
    "        print(\"My Class Method \" + someString)\n",
    "        \n",
    "class anotherClass(myClass):\n",
    "    def method(self):\n",
    "        myClass.method(self)\n",
    "        print(\"AnotherClass Method\")\n",
    "        \n",
    "    def method1(self, someString):\n",
    "        print(\"AnotherClass Method \")\n",
    "        \n",
    "def main():\n",
    "    c = myClass()\n",
    "    c.method()\n",
    "    c.method1(\"- This is string\")\n",
    "    \n",
    "    c2 = anotherClass()\n",
    "    c2.method()\n",
    "    c2.method1(\"- This is string\")\n",
    "    \n",
    "    \n",
    "if __name__ == \"__main__\":\n",
    "    main()"
   ]
  },
  {
   "cell_type": "markdown",
   "metadata": {},
   "source": [
    "What code should come instead of the ??? placeholders to have a function that takes the amount of local currency\n",
    "and a varying number of exchange rates,\n",
    "and prints the value of the currency at each provided exchange rate?"
   ]
  },
  {
   "cell_type": "code",
   "execution_count": 97,
   "metadata": {},
   "outputs": [
    {
     "name": "stdout",
     "output_type": "stream",
     "text": [
      "8\n",
      "None\n"
     ]
    }
   ],
   "source": [
    "def Cal(currency, *rates):\n",
    "    for i in rates:\n",
    "        print(currency*i)\n",
    "        \n",
    "print(Cal(2,4))"
   ]
  },
  {
   "cell_type": "markdown",
   "metadata": {},
   "source": [
    "You have an existing class Simple() that returns the sum of two numbers using its Add(x,y) method. How can you leverage it to build another class that calculates the inverse of the sum of two numbers?"
   ]
  },
  {
   "cell_type": "code",
   "execution_count": 104,
   "metadata": {},
   "outputs": [
    {
     "name": "stdout",
     "output_type": "stream",
     "text": [
      "<__main__.Advance object at 0x1072001d0>\n"
     ]
    }
   ],
   "source": [
    "class Advance():\n",
    "    def Inverse(x,y):\n",
    "#         sum = Simple.add(x,y)\n",
    "        return(1/(x+y))\n",
    "\n",
    "print(Advance())"
   ]
  },
  {
   "cell_type": "code",
   "execution_count": 105,
   "metadata": {},
   "outputs": [
    {
     "ename": "NameError",
     "evalue": "name 'Simple' is not defined",
     "output_type": "error",
     "traceback": [
      "\u001b[0;31m---------------------------------------------------------------------------\u001b[0m",
      "\u001b[0;31mNameError\u001b[0m                                 Traceback (most recent call last)",
      "\u001b[0;32m<ipython-input-105-f65d70718d1d>\u001b[0m in \u001b[0;36m<module>\u001b[0;34m\u001b[0m\n\u001b[0;32m----> 1\u001b[0;31m \u001b[0;32mclass\u001b[0m \u001b[0mAdvanced\u001b[0m\u001b[0;34m(\u001b[0m\u001b[0mSimple\u001b[0m\u001b[0;34m)\u001b[0m\u001b[0;34m:\u001b[0m\u001b[0;34m\u001b[0m\u001b[0;34m\u001b[0m\u001b[0m\n\u001b[0m\u001b[1;32m      2\u001b[0m   \u001b[0;32mdef\u001b[0m \u001b[0mInverse\u001b[0m\u001b[0;34m(\u001b[0m\u001b[0mself\u001b[0m\u001b[0;34m,\u001b[0m\u001b[0mx\u001b[0m\u001b[0;34m,\u001b[0m\u001b[0my\u001b[0m\u001b[0;34m)\u001b[0m\u001b[0;34m:\u001b[0m\u001b[0;34m\u001b[0m\u001b[0;34m\u001b[0m\u001b[0m\n\u001b[1;32m      3\u001b[0m     \u001b[0;32mreturn\u001b[0m \u001b[0;34m(\u001b[0m\u001b[0;36m1\u001b[0m\u001b[0;34m/\u001b[0m\u001b[0mSimple\u001b[0m\u001b[0;34m.\u001b[0m\u001b[0mAdd\u001b[0m\u001b[0;34m(\u001b[0m\u001b[0mself\u001b[0m\u001b[0;34m,\u001b[0m\u001b[0mx\u001b[0m\u001b[0;34m,\u001b[0m\u001b[0my\u001b[0m\u001b[0;34m)\u001b[0m\u001b[0;34m)\u001b[0m\u001b[0;34m\u001b[0m\u001b[0;34m\u001b[0m\u001b[0m\n\u001b[1;32m      4\u001b[0m \u001b[0;34m\u001b[0m\u001b[0m\n\u001b[1;32m      5\u001b[0m \u001b[0mprint\u001b[0m\u001b[0;34m(\u001b[0m\u001b[0mAdvanced\u001b[0m\u001b[0;34m(\u001b[0m\u001b[0;34m)\u001b[0m\u001b[0;34m)\u001b[0m\u001b[0;34m\u001b[0m\u001b[0;34m\u001b[0m\u001b[0m\n",
      "\u001b[0;31mNameError\u001b[0m: name 'Simple' is not defined"
     ]
    }
   ],
   "source": [
    "class Advanced(Simple):\n",
    "  def Inverse(self,x,y):\n",
    "    return (1/Simple.Add(self,x,y))\n",
    "\n",
    "print(Advanced())"
   ]
  },
  {
   "cell_type": "code",
   "execution_count": 109,
   "metadata": {},
   "outputs": [
    {
     "name": "stdout",
     "output_type": "stream",
     "text": [
      "3\n"
     ]
    }
   ],
   "source": [
    "a=1\n",
    "b=2\n",
    "def func():\n",
    "    global b\n",
    "    b = a+b\n",
    "func()\n",
    "print(b)"
   ]
  },
  {
   "cell_type": "code",
   "execution_count": 110,
   "metadata": {},
   "outputs": [
    {
     "name": "stdout",
     "output_type": "stream",
     "text": [
      "Object `sex` not found.\n"
     ]
    }
   ],
   "source": [
    "In Python, what is the correct way to develop a class called Person that has parameters in the initialize function called name, age, and sex?"
   ]
  },
  {
   "cell_type": "markdown",
   "metadata": {},
   "source": [
    "In Python, what is the correct way to develop a class called Person that has parameters in the initialize function called name, age, and sex"
   ]
  },
  {
   "cell_type": "code",
   "execution_count": 113,
   "metadata": {},
   "outputs": [],
   "source": [
    "class Person:\n",
    "  def __initialize__(self, name, age, sex):\n",
    "    self.name = name\n",
    "    self.age = age\n",
    "    self.sex = sex   "
   ]
  },
  {
   "cell_type": "code",
   "execution_count": 114,
   "metadata": {},
   "outputs": [
    {
     "name": "stdout",
     "output_type": "stream",
     "text": [
      "4\n"
     ]
    }
   ],
   "source": [
    "def inc(,b=a1): #a+1\n",
    "    return(a+b)\n",
    "a=inc(1)\n",
    "a=inc(a,a)\n",
    "print(a)"
   ]
  },
  {
   "cell_type": "markdown",
   "metadata": {},
   "source": [
    "You need to set the annual payment in one function and print the respective monthly payment in a separate function. How would you fix the suggested code to work properly?\n",
    " "
   ]
  },
  {
   "cell_type": "code",
   "execution_count": 117,
   "metadata": {},
   "outputs": [
    {
     "ename": "TypeError",
     "evalue": "must be str, not float",
     "output_type": "error",
     "traceback": [
      "\u001b[0;31m---------------------------------------------------------------------------\u001b[0m",
      "\u001b[0;31mTypeError\u001b[0m                                 Traceback (most recent call last)",
      "\u001b[0;32m<ipython-input-117-25654e0b771c>\u001b[0m in \u001b[0;36m<module>\u001b[0;34m\u001b[0m\n\u001b[1;32m      7\u001b[0m   \u001b[0mprint\u001b[0m\u001b[0;34m(\u001b[0m\u001b[0;34m\"Your monthly payment is \"\u001b[0m\u001b[0;34m+\u001b[0m\u001b[0mannual\u001b[0m\u001b[0;34m/\u001b[0m\u001b[0;36m12\u001b[0m\u001b[0;34m+\u001b[0m\u001b[0;34m\" USD.\"\u001b[0m\u001b[0;34m)\u001b[0m\u001b[0;34m\u001b[0m\u001b[0;34m\u001b[0m\u001b[0m\n\u001b[1;32m      8\u001b[0m \u001b[0mSetAnnual\u001b[0m\u001b[0;34m(\u001b[0m\u001b[0;34m)\u001b[0m\u001b[0;34m\u001b[0m\u001b[0;34m\u001b[0m\u001b[0m\n\u001b[0;32m----> 9\u001b[0;31m \u001b[0mPrintMonthly\u001b[0m\u001b[0;34m(\u001b[0m\u001b[0;34m)\u001b[0m\u001b[0;34m\u001b[0m\u001b[0;34m\u001b[0m\u001b[0m\n\u001b[0m",
      "\u001b[0;32m<ipython-input-117-25654e0b771c>\u001b[0m in \u001b[0;36mPrintMonthly\u001b[0;34m()\u001b[0m\n\u001b[1;32m      5\u001b[0m \u001b[0;34m\u001b[0m\u001b[0m\n\u001b[1;32m      6\u001b[0m \u001b[0;32mdef\u001b[0m \u001b[0mPrintMonthly\u001b[0m\u001b[0;34m(\u001b[0m\u001b[0;34m)\u001b[0m\u001b[0;34m:\u001b[0m\u001b[0;34m\u001b[0m\u001b[0;34m\u001b[0m\u001b[0m\n\u001b[0;32m----> 7\u001b[0;31m   \u001b[0mprint\u001b[0m\u001b[0;34m(\u001b[0m\u001b[0;34m\"Your monthly payment is \"\u001b[0m\u001b[0;34m+\u001b[0m\u001b[0mannual\u001b[0m\u001b[0;34m/\u001b[0m\u001b[0;36m12\u001b[0m\u001b[0;34m+\u001b[0m\u001b[0;34m\" USD.\"\u001b[0m\u001b[0;34m)\u001b[0m\u001b[0;34m\u001b[0m\u001b[0;34m\u001b[0m\u001b[0m\n\u001b[0m\u001b[1;32m      8\u001b[0m \u001b[0mSetAnnual\u001b[0m\u001b[0;34m(\u001b[0m\u001b[0;34m)\u001b[0m\u001b[0;34m\u001b[0m\u001b[0;34m\u001b[0m\u001b[0m\n\u001b[1;32m      9\u001b[0m \u001b[0mPrintMonthly\u001b[0m\u001b[0;34m(\u001b[0m\u001b[0;34m)\u001b[0m\u001b[0;34m\u001b[0m\u001b[0;34m\u001b[0m\u001b[0m\n",
      "\u001b[0;31mTypeError\u001b[0m: must be str, not float"
     ]
    }
   ],
   "source": [
    "\n",
    "def SetAnnual():\n",
    "    global annual\n",
    "    annual=10000\n",
    "\n",
    "def PrintMonthly():\n",
    "  print(\"Your monthly payment is \"+annual/12+\" USD.\")\n",
    "SetAnnual()\n",
    "PrintMonthly()\n"
   ]
  },
  {
   "cell_type": "code",
   "execution_count": 122,
   "metadata": {},
   "outputs": [
    {
     "name": "stdout",
     "output_type": "stream",
     "text": [
      "1\n"
     ]
    }
   ],
   "source": [
    "number = 2\n",
    "\n",
    "\n",
    "if (number>=1000):\n",
    "  print(4)\n",
    "elif (number>=100):\n",
    "  print(3)\n",
    "elif (number>=10):\n",
    "  print(2)\n",
    "else:\n",
    "  print(1)"
   ]
  },
  {
   "cell_type": "markdown",
   "metadata": {},
   "source": [
    "Which function will return the sum of the first item in the data list and every tenth item after?"
   ]
  },
  {
   "cell_type": "code",
   "execution_count": 124,
   "metadata": {},
   "outputs": [],
   "source": [
    "def Sum10th(data):\n",
    "  sum=0\n",
    "  for i,d in enumerate(data):\n",
    "    if (i % 10 == 0): sum=sum+d\n",
    "  return sum"
   ]
  },
  {
   "cell_type": "code",
   "execution_count": 125,
   "metadata": {},
   "outputs": [],
   "source": [
    "#The Date, Time and daatetime"
   ]
  },
  {
   "cell_type": "code",
   "execution_count": 150,
   "metadata": {},
   "outputs": [],
   "source": [
    "from datetime import date\n",
    "from datetime import time\n",
    "from datetime import datetime\n",
    "from datetime import timedelta"
   ]
  },
  {
   "cell_type": "code",
   "execution_count": 134,
   "metadata": {},
   "outputs": [
    {
     "name": "stdout",
     "output_type": "stream",
     "text": [
      "Today's date is 2020-06-24\n",
      "Today components: 24 6 2020\n",
      "Today weekday #: 2\n",
      "Today weekday #: Wed\n"
     ]
    }
   ],
   "source": [
    "def main():\n",
    "    today = date.today()\n",
    "    print(\"Today's date is\", today)\n",
    "    print(\"Today components:\", today.day, today.month, today.year)\n",
    "    print(\"Today weekday #:\", today.weekday())\n",
    "\n",
    "    days = ['Mon', 'Tue', 'Wed', 'Thur', 'Fri', 'Sat', 'Sun']\n",
    "    print(\"Today weekday #:\", days[today.weekday()])\n",
    "if __name__ == '__main__':\n",
    "    main()"
   ]
  },
  {
   "cell_type": "code",
   "execution_count": 135,
   "metadata": {},
   "outputs": [
    {
     "name": "stdout",
     "output_type": "stream",
     "text": [
      "today date and time is: 2020-06-24 11:15:58.918608\n"
     ]
    }
   ],
   "source": [
    "today = datetime.now()\n",
    "print(\"Current date and time is:\", today)"
   ]
  },
  {
   "cell_type": "code",
   "execution_count": 136,
   "metadata": {},
   "outputs": [
    {
     "data": {
      "text/plain": [
       "datetime.time(11, 16, 57, 98500)"
      ]
     },
     "execution_count": 136,
     "metadata": {},
     "output_type": "execute_result"
    }
   ],
   "source": [
    "t = datetime.time(datetime.now())\n",
    "t"
   ]
  },
  {
   "cell_type": "code",
   "execution_count": 137,
   "metadata": {},
   "outputs": [],
   "source": [
    "#formatting time output"
   ]
  },
  {
   "cell_type": "code",
   "execution_count": 141,
   "metadata": {},
   "outputs": [
    {
     "name": "stdout",
     "output_type": "stream",
     "text": [
      "The current year is: 2020\n"
     ]
    }
   ],
   "source": [
    "def main():\n",
    "    \n",
    "    now = datetime.now()\n",
    "    print(now.strftime(\"The current year is: %Y\"))\n",
    "#     print(now)\n",
    "    \n",
    "    \n",
    "    \n",
    "    \n",
    "if __name__ == '__main__':\n",
    "    main()"
   ]
  },
  {
   "cell_type": "code",
   "execution_count": 142,
   "metadata": {},
   "outputs": [
    {
     "name": "stdout",
     "output_type": "stream",
     "text": [
      "Wed, 24 June, 2020\n"
     ]
    }
   ],
   "source": [
    "def main():\n",
    "    \n",
    "    now = datetime.now()\n",
    "    print(now.strftime(\"%a, %d %B, %Y\"))\n",
    "#     print(now)\n",
    "    \n",
    "    \n",
    "    \n",
    "    \n",
    "if __name__ == '__main__':\n",
    "    main()"
   ]
  },
  {
   "cell_type": "code",
   "execution_count": 143,
   "metadata": {},
   "outputs": [
    {
     "name": "stdout",
     "output_type": "stream",
     "text": [
      "Local Date and TIme Wed Jun 24 11:40:17 2020\n",
      "Local Date and TIme 06/24/20\n",
      "Local Date and TIme 11:40:17\n"
     ]
    }
   ],
   "source": [
    "def main():\n",
    "    \n",
    "    now = datetime.now()\n",
    "    print(now.strftime(\"Local Date and TIme %c\"))\n",
    "    print(now.strftime(\"Local Date and TIme %x\"))\n",
    "    print(now.strftime(\"Local Date and TIme %X\"))\n",
    "    \n",
    "    \n",
    "    \n",
    "    \n",
    "if __name__ == '__main__':\n",
    "    main()"
   ]
  },
  {
   "cell_type": "code",
   "execution_count": 147,
   "metadata": {},
   "outputs": [
    {
     "name": "stdout",
     "output_type": "stream",
     "text": [
      "Current time: 11:43:29 AM\n",
      "24Hour time: 11: 43\n"
     ]
    }
   ],
   "source": [
    "def main():\n",
    "    \n",
    "    now = datetime.now()\n",
    "    print(now.strftime(\"Current time: %I:%M:%S %p\"))\n",
    "    print(now.strftime(\"24Hour time: %H: %M\"))\n",
    "    \n",
    "    \n",
    "    \n",
    "    \n",
    "if __name__ == '__main__':\n",
    "    main()"
   ]
  },
  {
   "cell_type": "code",
   "execution_count": 148,
   "metadata": {},
   "outputs": [],
   "source": [
    "#Using timedelta Object"
   ]
  },
  {
   "cell_type": "code",
   "execution_count": 151,
   "metadata": {},
   "outputs": [
    {
     "name": "stdout",
     "output_type": "stream",
     "text": [
      "365 days, 5:01:00\n"
     ]
    }
   ],
   "source": [
    "print(timedelta(days = 365, hours = 5 , minutes = 1))"
   ]
  },
  {
   "cell_type": "code",
   "execution_count": 153,
   "metadata": {},
   "outputs": [
    {
     "name": "stdout",
     "output_type": "stream",
     "text": [
      "Today date is: 2020-06-24 12:02:20.806441\n",
      "One year from now will be: 2021-06-24 12:02:20.806441\n"
     ]
    }
   ],
   "source": [
    "now = datetime.now()\n",
    "print(\"Today date is:\", str(now))\n",
    "print(\"One year from now will be:\", str(now + timedelta(days = 365)))"
   ]
  },
  {
   "cell_type": "code",
   "execution_count": 155,
   "metadata": {},
   "outputs": [
    {
     "name": "stdout",
     "output_type": "stream",
     "text": [
      "In two days and three week: 2020-07-17 12:02:20.806441\n"
     ]
    }
   ],
   "source": [
    "print(\"In two days and three week:\", str(now + timedelta(days = 2, weeks = 3)))"
   ]
  },
  {
   "cell_type": "code",
   "execution_count": 156,
   "metadata": {},
   "outputs": [
    {
     "name": "stdout",
     "output_type": "stream",
     "text": [
      "one week ago it was:  Wednesday June 17, 2020\n"
     ]
    }
   ],
   "source": [
    "t = datetime.now()- timedelta(weeks = 1)\n",
    "s = t.strftime(\"%A %B %d, %Y\")\n",
    "print(\"one week ago it was: \", s)"
   ]
  },
  {
   "cell_type": "code",
   "execution_count": 161,
   "metadata": {},
   "outputs": [
    {
     "name": "stdout",
     "output_type": "stream",
     "text": [
      "April fool day already went 84 days ago\n",
      "It's just days 281 Until the next april fool days\n"
     ]
    }
   ],
   "source": [
    "today = date.today()\n",
    "afd = date(today.year, 4,1)\n",
    "if afd < today:\n",
    "    print(\"April fool day already went %d days ago\" % ((today-afd).days))\n",
    "    afd = afd.replace(year = today.year+1)\n",
    "\n",
    "time_to_afd = afd -today\n",
    "print(\"It's just days\", time_to_afd.days, \"Until the next april fool days\")"
   ]
  },
  {
   "cell_type": "code",
   "execution_count": 162,
   "metadata": {},
   "outputs": [],
   "source": [
    "#Calendar"
   ]
  },
  {
   "cell_type": "code",
   "execution_count": 163,
   "metadata": {},
   "outputs": [],
   "source": [
    "import calendar"
   ]
  },
  {
   "cell_type": "code",
   "execution_count": 165,
   "metadata": {},
   "outputs": [
    {
     "name": "stdout",
     "output_type": "stream",
     "text": [
      "    January 2017\n",
      "Mo Tu We Th Fr Sa Su\n",
      "                   1\n",
      " 2  3  4  5  6  7  8\n",
      " 9 10 11 12 13 14 15\n",
      "16 17 18 19 20 21 22\n",
      "23 24 25 26 27 28 29\n",
      "30 31\n",
      "\n"
     ]
    }
   ],
   "source": [
    "c = calendar.TextCalendar(calendar.MONDAY)\n",
    "t = c.formatmonth(2017,1,0,0)\n",
    "print(t)"
   ]
  },
  {
   "cell_type": "code",
   "execution_count": 166,
   "metadata": {},
   "outputs": [
    {
     "name": "stdout",
     "output_type": "stream",
     "text": [
      "<table border=\"0\" cellpadding=\"0\" cellspacing=\"0\" class=\"month\">\n",
      "<tr><th colspan=\"7\" class=\"month\">January 2017</th></tr>\n",
      "<tr><th class=\"mon\">Mon</th><th class=\"tue\">Tue</th><th class=\"wed\">Wed</th><th class=\"thu\">Thu</th><th class=\"fri\">Fri</th><th class=\"sat\">Sat</th><th class=\"sun\">Sun</th></tr>\n",
      "<tr><td class=\"noday\">&nbsp;</td><td class=\"noday\">&nbsp;</td><td class=\"noday\">&nbsp;</td><td class=\"noday\">&nbsp;</td><td class=\"noday\">&nbsp;</td><td class=\"noday\">&nbsp;</td><td class=\"sun\">1</td></tr>\n",
      "<tr><td class=\"mon\">2</td><td class=\"tue\">3</td><td class=\"wed\">4</td><td class=\"thu\">5</td><td class=\"fri\">6</td><td class=\"sat\">7</td><td class=\"sun\">8</td></tr>\n",
      "<tr><td class=\"mon\">9</td><td class=\"tue\">10</td><td class=\"wed\">11</td><td class=\"thu\">12</td><td class=\"fri\">13</td><td class=\"sat\">14</td><td class=\"sun\">15</td></tr>\n",
      "<tr><td class=\"mon\">16</td><td class=\"tue\">17</td><td class=\"wed\">18</td><td class=\"thu\">19</td><td class=\"fri\">20</td><td class=\"sat\">21</td><td class=\"sun\">22</td></tr>\n",
      "<tr><td class=\"mon\">23</td><td class=\"tue\">24</td><td class=\"wed\">25</td><td class=\"thu\">26</td><td class=\"fri\">27</td><td class=\"sat\">28</td><td class=\"sun\">29</td></tr>\n",
      "<tr><td class=\"mon\">30</td><td class=\"tue\">31</td><td class=\"noday\">&nbsp;</td><td class=\"noday\">&nbsp;</td><td class=\"noday\">&nbsp;</td><td class=\"noday\">&nbsp;</td><td class=\"noday\">&nbsp;</td></tr>\n",
      "</table>\n",
      "\n"
     ]
    }
   ],
   "source": [
    "c = calendar.HTMLCalendar(calendar.MONDAY)\n",
    "t = c.formatmonth(2017,1)\n",
    "print(t)"
   ]
  },
  {
   "cell_type": "code",
   "execution_count": 168,
   "metadata": {},
   "outputs": [
    {
     "name": "stdout",
     "output_type": "stream",
     "text": [
      "0\n",
      "0\n",
      "1\n",
      "2\n",
      "3\n",
      "4\n",
      "5\n",
      "6\n",
      "7\n",
      "8\n",
      "9\n",
      "10\n",
      "11\n",
      "12\n",
      "13\n",
      "14\n",
      "15\n",
      "16\n",
      "17\n",
      "18\n",
      "19\n",
      "20\n",
      "21\n",
      "22\n",
      "23\n",
      "24\n",
      "25\n",
      "26\n",
      "27\n",
      "28\n",
      "29\n",
      "30\n",
      "31\n",
      "0\n",
      "0\n"
     ]
    }
   ],
   "source": [
    "c = calendar.HTMLCalendar(calendar.SUNDAY)\n",
    "for i in c.itermonthdays(2017,8):\n",
    "    print(i)"
   ]
  },
  {
   "cell_type": "code",
   "execution_count": 169,
   "metadata": {},
   "outputs": [
    {
     "name": "stdout",
     "output_type": "stream",
     "text": [
      "\n",
      "January\n",
      "February\n",
      "March\n",
      "April\n",
      "May\n",
      "June\n",
      "July\n",
      "August\n",
      "September\n",
      "October\n",
      "November\n",
      "December\n"
     ]
    }
   ],
   "source": [
    "for name in calendar.month_name:\n",
    "    print(name)"
   ]
  },
  {
   "cell_type": "code",
   "execution_count": 171,
   "metadata": {},
   "outputs": [
    {
     "name": "stdout",
     "output_type": "stream",
     "text": [
      "Monday\n",
      "Tuesday\n",
      "Wednesday\n",
      "Thursday\n",
      "Friday\n",
      "Saturday\n",
      "Sunday\n"
     ]
    }
   ],
   "source": [
    "for day in calendar.day_name:\n",
    "    print(day)"
   ]
  },
  {
   "cell_type": "code",
   "execution_count": 179,
   "metadata": {},
   "outputs": [
    {
     "name": "stdout",
     "output_type": "stream",
     "text": [
      "Team meeting will be on: \n",
      "   January  5\n",
      "  February  2\n",
      "     March  2\n",
      "     April  6\n",
      "       May  4\n",
      "      June  1\n",
      "      July  6\n",
      "    August  3\n",
      " September  7\n",
      "   October  5\n",
      "  November  2\n",
      "  December  7\n"
     ]
    }
   ],
   "source": [
    "c = calendar.HTMLCalendar(calendar.SUNDAY)\n",
    "\n",
    "print(\"Team meeting will be on: \")\n",
    "for m in range (1,13):\n",
    "    cal = calendar.monthcalendar(2018,m)\n",
    "    weekone = cal[0]\n",
    "    weektwo = cal[1]\n",
    "    \n",
    "    if weekone[calendar.FRIDAY] != 0:\n",
    "        meetday = weekone[calendar.FRIDAY]\n",
    "    else:\n",
    "        meetday = weektwo[calendar.FRIDAY]\n",
    "        \n",
    "    print(\"%10s %2d\" % (calendar.month_name[m], meetday))"
   ]
  },
  {
   "cell_type": "code",
   "execution_count": 181,
   "metadata": {},
   "outputs": [
    {
     "name": "stdout",
     "output_type": "stream",
     "text": [
      "Birthday in 4 days\n"
     ]
    }
   ],
   "source": [
    "today=date.today()\n",
    "bday=date(today.year,6,28)\n",
    "diff= (bday-today).days\n",
    "\n",
    "if diff>0:\n",
    "  print(\"Birthday in %d days\" % diff)\n",
    "else:\n",
    "  print(\"Birthday in %d days\" % (diff+365))"
   ]
  },
  {
   "cell_type": "code",
   "execution_count": 182,
   "metadata": {},
   "outputs": [],
   "source": [
    "today=date.today()\n",
    "# Option A:\n",
    "tomorrow=today+timedelta(days=1)"
   ]
  },
  {
   "cell_type": "code",
   "execution_count": 184,
   "metadata": {},
   "outputs": [
    {
     "name": "stdout",
     "output_type": "stream",
     "text": [
      "2020-06-25\n"
     ]
    }
   ],
   "source": [
    "tomorrow=date(today.year,today.month,today.day+1)\n",
    "print(tomorrow)"
   ]
  },
  {
   "cell_type": "code",
   "execution_count": 185,
   "metadata": {},
   "outputs": [],
   "source": [
    "#working with files"
   ]
  },
  {
   "cell_type": "code",
   "execution_count": 187,
   "metadata": {},
   "outputs": [],
   "source": [
    "f = open(\"/Users/poojapatel/Downloads/textfile.txt\", \"w+\")\n",
    "for i in range(10):\n",
    "    f.write(\"this is line \" + str(i) + \"\\r\\n\")\n",
    "    \n",
    "f.close()"
   ]
  },
  {
   "cell_type": "code",
   "execution_count": 188,
   "metadata": {},
   "outputs": [],
   "source": [
    "f = open(\"/Users/poojapatel/Downloads/textfile.txt\", \"a\")\n",
    "for i in range(10):\n",
    "    f.write(\"this is line \" + str(i) + \"\\r\\n\")\n",
    "    \n",
    "f.close()"
   ]
  },
  {
   "cell_type": "code",
   "execution_count": 189,
   "metadata": {},
   "outputs": [
    {
     "name": "stdout",
     "output_type": "stream",
     "text": [
      "this is line 0\n",
      "this is line 1\n",
      "this is line 2\n",
      "this is line 3\n",
      "this is line 4\n",
      "this is line 5\n",
      "this is line 6\n",
      "this is line 7\n",
      "this is line 8\n",
      "this is line 9\n",
      "this is line 0\n",
      "this is line 1\n",
      "this is line 2\n",
      "this is line 3\n",
      "this is line 4\n",
      "this is line 5\n",
      "this is line 6\n",
      "this is line 7\n",
      "this is line 8\n",
      "this is line 9\n",
      "\n"
     ]
    }
   ],
   "source": [
    "f = open(\"/Users/poojapatel/Downloads/textfile.txt\", \"r\")\n",
    "if f.mode == \"r\":\n",
    "    contents = f.read()\n",
    "    print(contents)\n",
    "f.close()"
   ]
  },
  {
   "cell_type": "code",
   "execution_count": 190,
   "metadata": {},
   "outputs": [
    {
     "name": "stdout",
     "output_type": "stream",
     "text": [
      "this is line 0\n",
      "\n",
      "this is line 1\n",
      "\n",
      "this is line 2\n",
      "\n",
      "this is line 3\n",
      "\n",
      "this is line 4\n",
      "\n",
      "this is line 5\n",
      "\n",
      "this is line 6\n",
      "\n",
      "this is line 7\n",
      "\n",
      "this is line 8\n",
      "\n",
      "this is line 9\n",
      "\n",
      "this is line 0\n",
      "\n",
      "this is line 1\n",
      "\n",
      "this is line 2\n",
      "\n",
      "this is line 3\n",
      "\n",
      "this is line 4\n",
      "\n",
      "this is line 5\n",
      "\n",
      "this is line 6\n",
      "\n",
      "this is line 7\n",
      "\n",
      "this is line 8\n",
      "\n",
      "this is line 9\n",
      "\n"
     ]
    }
   ],
   "source": [
    "f = open(\"/Users/poojapatel/Downloads/textfile.txt\", \"r\")\n",
    "fl = f.readlines()\n",
    "for i in fl:\n",
    "    print(i)\n",
    "f.close()"
   ]
  },
  {
   "cell_type": "code",
   "execution_count": 1,
   "metadata": {},
   "outputs": [],
   "source": [
    "#working with PATH OS UTILITIES"
   ]
  },
  {
   "cell_type": "code",
   "execution_count": 2,
   "metadata": {},
   "outputs": [],
   "source": [
    "import os\n",
    "from os import path\n",
    "import datetime\n",
    "from datetime import date, time, timedelta\n",
    "import time"
   ]
  },
  {
   "cell_type": "code",
   "execution_count": 3,
   "metadata": {},
   "outputs": [
    {
     "name": "stdout",
     "output_type": "stream",
     "text": [
      "posix\n"
     ]
    }
   ],
   "source": [
    "print(os.name)"
   ]
  },
  {
   "cell_type": "code",
   "execution_count": 9,
   "metadata": {},
   "outputs": [
    {
     "name": "stdout",
     "output_type": "stream",
     "text": [
      "Item Exists: True\n",
      "Item Exists: True\n",
      "Item Exists: False\n",
      "Item Exists: /Users/poojapatel/Downloads/textfile.txt\n",
      "Item Exists: ('/Users/poojapatel/Downloads', 'textfile.txt')\n"
     ]
    }
   ],
   "source": [
    "print(\"Item Exists: \" + str(path.exists(\"/Users/poojapatel/Downloads/textfile.txt\")))\n",
    "print(\"Item Exists: \" + str(path.isfile(\"/Users/poojapatel/Downloads/textfile.txt\")))\n",
    "print(\"Item Exists: \" + str(path.isdir(\"/Users/poojapatel/Downloads/textfile.txt\")))\n",
    "print(\"Item Exists: \" + str(path.realpath(\"/Users/poojapatel/Downloads/textfile.txt\")))\n",
    "print(\"Item Exists: \" + str(path.split(path.realpath(\"/Users/poojapatel/Downloads/textfile.txt\"))))"
   ]
  },
  {
   "cell_type": "code",
   "execution_count": 10,
   "metadata": {},
   "outputs": [],
   "source": [
    "#get the modification time"
   ]
  },
  {
   "cell_type": "code",
   "execution_count": 11,
   "metadata": {},
   "outputs": [
    {
     "name": "stdout",
     "output_type": "stream",
     "text": [
      "Wed Jun 24 16:55:16 2020\n"
     ]
    }
   ],
   "source": [
    "t = time.ctime(path.getmtime(\"/Users/poojapatel/Downloads/textfile.txt\"))\n",
    "print(t)"
   ]
  },
  {
   "cell_type": "code",
   "execution_count": 14,
   "metadata": {},
   "outputs": [
    {
     "name": "stdout",
     "output_type": "stream",
     "text": [
      "2020-06-24 16:55:16.213734\n"
     ]
    }
   ],
   "source": [
    "print(datetime.datetime.fromtimestamp(path.getmtime(\"/Users/poojapatel/Downloads/textfile.txt\")))"
   ]
  },
  {
   "cell_type": "code",
   "execution_count": 18,
   "metadata": {},
   "outputs": [
    {
     "name": "stdout",
     "output_type": "stream",
     "text": [
      "It has been 7:20:01.735514 since the file has been modified\n",
      "or 26401.735514seconds\n"
     ]
    }
   ],
   "source": [
    "td = datetime.datetime.now() - datetime.datetime.fromtimestamp(path.getmtime(\"/Users/poojapatel/Downloads/textfile.txt\"))\n",
    "print(\"It has been \"+ str(td)+\" since the file has been modified\")\n",
    "print(\"or \"+ str(td.total_seconds())+ \"seconds\")"
   ]
  },
  {
   "cell_type": "code",
   "execution_count": 32,
   "metadata": {},
   "outputs": [],
   "source": [
    "import shutil\n",
    "from shutil import make_archive\n",
    "from zipfile import ZipFile"
   ]
  },
  {
   "cell_type": "code",
   "execution_count": 20,
   "metadata": {},
   "outputs": [],
   "source": [
    "#make an duplicate file of exisiting file"
   ]
  },
  {
   "cell_type": "code",
   "execution_count": 21,
   "metadata": {},
   "outputs": [],
   "source": [
    "if path.exists(\"/Users/poojapatel/Downloads/textfile.txt\"):\n",
    "    src = path.realpath(\"/Users/poojapatel/Downloads/textfile.txt\")\n",
    "    dst = src + \".bak\"\n",
    "    shutil.copy(src, dst)"
   ]
  },
  {
   "cell_type": "code",
   "execution_count": 22,
   "metadata": {},
   "outputs": [],
   "source": [
    "shutil.copystat(src, dst)"
   ]
  },
  {
   "cell_type": "code",
   "execution_count": 23,
   "metadata": {},
   "outputs": [],
   "source": [
    "#rename the original file"
   ]
  },
  {
   "cell_type": "code",
   "execution_count": 24,
   "metadata": {},
   "outputs": [],
   "source": [
    "os.rename(\"/Users/poojapatel/Downloads/textfile.txt\", \"/Users/poojapatel/Downloads/newfile.txt\")"
   ]
  },
  {
   "cell_type": "code",
   "execution_count": 25,
   "metadata": {},
   "outputs": [],
   "source": [
    "os.rename(\"/Users/poojapatel/Downloads/newfile.txt\",\"/Users/poojapatel/Downloads/textfile.txt\")"
   ]
  },
  {
   "cell_type": "code",
   "execution_count": 30,
   "metadata": {},
   "outputs": [
    {
     "ename": "KeyboardInterrupt",
     "evalue": "",
     "output_type": "error",
     "traceback": [
      "\u001b[0;31m---------------------------------------------------------------------------\u001b[0m",
      "\u001b[0;31mKeyboardInterrupt\u001b[0m                         Traceback (most recent call last)",
      "\u001b[0;32m<ipython-input-30-fd242d734c66>\u001b[0m in \u001b[0;36m<module>\u001b[0;34m\u001b[0m\n\u001b[1;32m      1\u001b[0m \u001b[0mroot_dir\u001b[0m\u001b[0;34m,\u001b[0m \u001b[0mtail\u001b[0m \u001b[0;34m=\u001b[0m \u001b[0mpath\u001b[0m\u001b[0;34m.\u001b[0m\u001b[0msplit\u001b[0m\u001b[0;34m(\u001b[0m\u001b[0msrc\u001b[0m\u001b[0;34m)\u001b[0m\u001b[0;34m\u001b[0m\u001b[0;34m\u001b[0m\u001b[0m\n\u001b[0;32m----> 2\u001b[0;31m \u001b[0mshutil\u001b[0m\u001b[0;34m.\u001b[0m\u001b[0mmake_archive\u001b[0m\u001b[0;34m(\u001b[0m\u001b[0;34m\"/Users/poojapatel/Downloads/archive\"\u001b[0m\u001b[0;34m,\u001b[0m \u001b[0;34m\"zip\"\u001b[0m\u001b[0;34m,\u001b[0m \u001b[0mroot_dir\u001b[0m\u001b[0;34m)\u001b[0m\u001b[0;34m\u001b[0m\u001b[0;34m\u001b[0m\u001b[0m\n\u001b[0m",
      "\u001b[0;32m~/anaconda3/lib/python3.6/shutil.py\u001b[0m in \u001b[0;36mmake_archive\u001b[0;34m(base_name, format, root_dir, base_dir, verbose, dry_run, owner, group, logger)\u001b[0m\n\u001b[1;32m    804\u001b[0m \u001b[0;34m\u001b[0m\u001b[0m\n\u001b[1;32m    805\u001b[0m     \u001b[0;32mtry\u001b[0m\u001b[0;34m:\u001b[0m\u001b[0;34m\u001b[0m\u001b[0;34m\u001b[0m\u001b[0m\n\u001b[0;32m--> 806\u001b[0;31m         \u001b[0mfilename\u001b[0m \u001b[0;34m=\u001b[0m \u001b[0mfunc\u001b[0m\u001b[0;34m(\u001b[0m\u001b[0mbase_name\u001b[0m\u001b[0;34m,\u001b[0m \u001b[0mbase_dir\u001b[0m\u001b[0;34m,\u001b[0m \u001b[0;34m**\u001b[0m\u001b[0mkwargs\u001b[0m\u001b[0;34m)\u001b[0m\u001b[0;34m\u001b[0m\u001b[0;34m\u001b[0m\u001b[0m\n\u001b[0m\u001b[1;32m    807\u001b[0m     \u001b[0;32mfinally\u001b[0m\u001b[0;34m:\u001b[0m\u001b[0;34m\u001b[0m\u001b[0;34m\u001b[0m\u001b[0m\n\u001b[1;32m    808\u001b[0m         \u001b[0;32mif\u001b[0m \u001b[0mroot_dir\u001b[0m \u001b[0;32mis\u001b[0m \u001b[0;32mnot\u001b[0m \u001b[0;32mNone\u001b[0m\u001b[0;34m:\u001b[0m\u001b[0;34m\u001b[0m\u001b[0;34m\u001b[0m\u001b[0m\n",
      "\u001b[0;32m~/anaconda3/lib/python3.6/shutil.py\u001b[0m in \u001b[0;36m_make_zipfile\u001b[0;34m(base_name, base_dir, verbose, dry_run, logger)\u001b[0m\n\u001b[1;32m    702\u001b[0m                     \u001b[0mpath\u001b[0m \u001b[0;34m=\u001b[0m \u001b[0mos\u001b[0m\u001b[0;34m.\u001b[0m\u001b[0mpath\u001b[0m\u001b[0;34m.\u001b[0m\u001b[0mnormpath\u001b[0m\u001b[0;34m(\u001b[0m\u001b[0mos\u001b[0m\u001b[0;34m.\u001b[0m\u001b[0mpath\u001b[0m\u001b[0;34m.\u001b[0m\u001b[0mjoin\u001b[0m\u001b[0;34m(\u001b[0m\u001b[0mdirpath\u001b[0m\u001b[0;34m,\u001b[0m \u001b[0mname\u001b[0m\u001b[0;34m)\u001b[0m\u001b[0;34m)\u001b[0m\u001b[0;34m\u001b[0m\u001b[0;34m\u001b[0m\u001b[0m\n\u001b[1;32m    703\u001b[0m                     \u001b[0;32mif\u001b[0m \u001b[0mos\u001b[0m\u001b[0;34m.\u001b[0m\u001b[0mpath\u001b[0m\u001b[0;34m.\u001b[0m\u001b[0misfile\u001b[0m\u001b[0;34m(\u001b[0m\u001b[0mpath\u001b[0m\u001b[0;34m)\u001b[0m\u001b[0;34m:\u001b[0m\u001b[0;34m\u001b[0m\u001b[0;34m\u001b[0m\u001b[0m\n\u001b[0;32m--> 704\u001b[0;31m                         \u001b[0mzf\u001b[0m\u001b[0;34m.\u001b[0m\u001b[0mwrite\u001b[0m\u001b[0;34m(\u001b[0m\u001b[0mpath\u001b[0m\u001b[0;34m,\u001b[0m \u001b[0mpath\u001b[0m\u001b[0;34m)\u001b[0m\u001b[0;34m\u001b[0m\u001b[0;34m\u001b[0m\u001b[0m\n\u001b[0m\u001b[1;32m    705\u001b[0m                         \u001b[0;32mif\u001b[0m \u001b[0mlogger\u001b[0m \u001b[0;32mis\u001b[0m \u001b[0;32mnot\u001b[0m \u001b[0;32mNone\u001b[0m\u001b[0;34m:\u001b[0m\u001b[0;34m\u001b[0m\u001b[0;34m\u001b[0m\u001b[0m\n\u001b[1;32m    706\u001b[0m                             \u001b[0mlogger\u001b[0m\u001b[0;34m.\u001b[0m\u001b[0minfo\u001b[0m\u001b[0;34m(\u001b[0m\u001b[0;34m\"adding '%s'\"\u001b[0m\u001b[0;34m,\u001b[0m \u001b[0mpath\u001b[0m\u001b[0;34m)\u001b[0m\u001b[0;34m\u001b[0m\u001b[0;34m\u001b[0m\u001b[0m\n",
      "\u001b[0;32m~/anaconda3/lib/python3.6/zipfile.py\u001b[0m in \u001b[0;36mwrite\u001b[0;34m(self, filename, arcname, compress_type)\u001b[0m\n\u001b[1;32m   1644\u001b[0m         \u001b[0;32melse\u001b[0m\u001b[0;34m:\u001b[0m\u001b[0;34m\u001b[0m\u001b[0;34m\u001b[0m\u001b[0m\n\u001b[1;32m   1645\u001b[0m             \u001b[0;32mwith\u001b[0m \u001b[0mopen\u001b[0m\u001b[0;34m(\u001b[0m\u001b[0mfilename\u001b[0m\u001b[0;34m,\u001b[0m \u001b[0;34m\"rb\"\u001b[0m\u001b[0;34m)\u001b[0m \u001b[0;32mas\u001b[0m \u001b[0msrc\u001b[0m\u001b[0;34m,\u001b[0m \u001b[0mself\u001b[0m\u001b[0;34m.\u001b[0m\u001b[0mopen\u001b[0m\u001b[0;34m(\u001b[0m\u001b[0mzinfo\u001b[0m\u001b[0;34m,\u001b[0m \u001b[0;34m'w'\u001b[0m\u001b[0;34m)\u001b[0m \u001b[0;32mas\u001b[0m \u001b[0mdest\u001b[0m\u001b[0;34m:\u001b[0m\u001b[0;34m\u001b[0m\u001b[0;34m\u001b[0m\u001b[0m\n\u001b[0;32m-> 1646\u001b[0;31m                 \u001b[0mshutil\u001b[0m\u001b[0;34m.\u001b[0m\u001b[0mcopyfileobj\u001b[0m\u001b[0;34m(\u001b[0m\u001b[0msrc\u001b[0m\u001b[0;34m,\u001b[0m \u001b[0mdest\u001b[0m\u001b[0;34m,\u001b[0m \u001b[0;36m1024\u001b[0m\u001b[0;34m*\u001b[0m\u001b[0;36m8\u001b[0m\u001b[0;34m)\u001b[0m\u001b[0;34m\u001b[0m\u001b[0;34m\u001b[0m\u001b[0m\n\u001b[0m\u001b[1;32m   1647\u001b[0m \u001b[0;34m\u001b[0m\u001b[0m\n\u001b[1;32m   1648\u001b[0m     \u001b[0;32mdef\u001b[0m \u001b[0mwritestr\u001b[0m\u001b[0;34m(\u001b[0m\u001b[0mself\u001b[0m\u001b[0;34m,\u001b[0m \u001b[0mzinfo_or_arcname\u001b[0m\u001b[0;34m,\u001b[0m \u001b[0mdata\u001b[0m\u001b[0;34m,\u001b[0m \u001b[0mcompress_type\u001b[0m\u001b[0;34m=\u001b[0m\u001b[0;32mNone\u001b[0m\u001b[0;34m)\u001b[0m\u001b[0;34m:\u001b[0m\u001b[0;34m\u001b[0m\u001b[0;34m\u001b[0m\u001b[0m\n",
      "\u001b[0;32m~/anaconda3/lib/python3.6/shutil.py\u001b[0m in \u001b[0;36mcopyfileobj\u001b[0;34m(fsrc, fdst, length)\u001b[0m\n\u001b[1;32m     80\u001b[0m         \u001b[0;32mif\u001b[0m \u001b[0;32mnot\u001b[0m \u001b[0mbuf\u001b[0m\u001b[0;34m:\u001b[0m\u001b[0;34m\u001b[0m\u001b[0;34m\u001b[0m\u001b[0m\n\u001b[1;32m     81\u001b[0m             \u001b[0;32mbreak\u001b[0m\u001b[0;34m\u001b[0m\u001b[0;34m\u001b[0m\u001b[0m\n\u001b[0;32m---> 82\u001b[0;31m         \u001b[0mfdst\u001b[0m\u001b[0;34m.\u001b[0m\u001b[0mwrite\u001b[0m\u001b[0;34m(\u001b[0m\u001b[0mbuf\u001b[0m\u001b[0;34m)\u001b[0m\u001b[0;34m\u001b[0m\u001b[0;34m\u001b[0m\u001b[0m\n\u001b[0m\u001b[1;32m     83\u001b[0m \u001b[0;34m\u001b[0m\u001b[0m\n\u001b[1;32m     84\u001b[0m \u001b[0;32mdef\u001b[0m \u001b[0m_samefile\u001b[0m\u001b[0;34m(\u001b[0m\u001b[0msrc\u001b[0m\u001b[0;34m,\u001b[0m \u001b[0mdst\u001b[0m\u001b[0;34m)\u001b[0m\u001b[0;34m:\u001b[0m\u001b[0;34m\u001b[0m\u001b[0;34m\u001b[0m\u001b[0m\n",
      "\u001b[0;32m~/anaconda3/lib/python3.6/zipfile.py\u001b[0m in \u001b[0;36mwrite\u001b[0;34m(self, data)\u001b[0m\n\u001b[1;32m   1011\u001b[0m         \u001b[0mself\u001b[0m\u001b[0;34m.\u001b[0m\u001b[0m_crc\u001b[0m \u001b[0;34m=\u001b[0m \u001b[0mcrc32\u001b[0m\u001b[0;34m(\u001b[0m\u001b[0mdata\u001b[0m\u001b[0;34m,\u001b[0m \u001b[0mself\u001b[0m\u001b[0;34m.\u001b[0m\u001b[0m_crc\u001b[0m\u001b[0;34m)\u001b[0m\u001b[0;34m\u001b[0m\u001b[0;34m\u001b[0m\u001b[0m\n\u001b[1;32m   1012\u001b[0m         \u001b[0;32mif\u001b[0m \u001b[0mself\u001b[0m\u001b[0;34m.\u001b[0m\u001b[0m_compressor\u001b[0m\u001b[0;34m:\u001b[0m\u001b[0;34m\u001b[0m\u001b[0;34m\u001b[0m\u001b[0m\n\u001b[0;32m-> 1013\u001b[0;31m             \u001b[0mdata\u001b[0m \u001b[0;34m=\u001b[0m \u001b[0mself\u001b[0m\u001b[0;34m.\u001b[0m\u001b[0m_compressor\u001b[0m\u001b[0;34m.\u001b[0m\u001b[0mcompress\u001b[0m\u001b[0;34m(\u001b[0m\u001b[0mdata\u001b[0m\u001b[0;34m)\u001b[0m\u001b[0;34m\u001b[0m\u001b[0;34m\u001b[0m\u001b[0m\n\u001b[0m\u001b[1;32m   1014\u001b[0m             \u001b[0mself\u001b[0m\u001b[0;34m.\u001b[0m\u001b[0m_compress_size\u001b[0m \u001b[0;34m+=\u001b[0m \u001b[0mlen\u001b[0m\u001b[0;34m(\u001b[0m\u001b[0mdata\u001b[0m\u001b[0;34m)\u001b[0m\u001b[0;34m\u001b[0m\u001b[0;34m\u001b[0m\u001b[0m\n\u001b[1;32m   1015\u001b[0m         \u001b[0mself\u001b[0m\u001b[0;34m.\u001b[0m\u001b[0m_fileobj\u001b[0m\u001b[0;34m.\u001b[0m\u001b[0mwrite\u001b[0m\u001b[0;34m(\u001b[0m\u001b[0mdata\u001b[0m\u001b[0;34m)\u001b[0m\u001b[0;34m\u001b[0m\u001b[0;34m\u001b[0m\u001b[0m\n",
      "\u001b[0;31mKeyboardInterrupt\u001b[0m: "
     ]
    }
   ],
   "source": [
    "root_dir, tail = path.split(src)\n",
    "shutil.make_archive(\"/Users/poojapatel/Downloads/archive\", \"zip\", root_dir)"
   ]
  },
  {
   "cell_type": "code",
   "execution_count": 33,
   "metadata": {},
   "outputs": [],
   "source": [
    "with ZipFile (\"/Users/poojapatel/Downloads/textzip.zip\", \"w\") as newzip:\n",
    "    newzip.write(\"/Users/poojapatel/Downloads/textfile.txt\")\n",
    "    newzip.write(\"/Users/poojapatel/Downloads/textfile.txt.bak\")"
   ]
  },
  {
   "cell_type": "code",
   "execution_count": 34,
   "metadata": {},
   "outputs": [],
   "source": [
    "#working with Web Data"
   ]
  },
  {
   "cell_type": "code",
   "execution_count": 36,
   "metadata": {},
   "outputs": [],
   "source": [
    "#fetching Internet data"
   ]
  },
  {
   "cell_type": "code",
   "execution_count": 37,
   "metadata": {},
   "outputs": [],
   "source": [
    "import urllib.request"
   ]
  },
  {
   "cell_type": "code",
   "execution_count": 38,
   "metadata": {},
   "outputs": [
    {
     "name": "stdout",
     "output_type": "stream",
     "text": [
      "result code:200\n"
     ]
    }
   ],
   "source": [
    "weburl = urllib.request.urlopen(\"https://www.google.com\")\n",
    "print(\"result code:\" +str(weburl.getcode()))"
   ]
  },
  {
   "cell_type": "code",
   "execution_count": 39,
   "metadata": {},
   "outputs": [
    {
     "name": "stdout",
     "output_type": "stream",
     "text": [
      "b'<!doctype html><html itemscope=\"\" itemtype=\"http://schema.org/WebPage\" lang=\"en\"><head><meta content=\"Search the world\\'s information, including webpages, images, videos and more. Google has many special features to help you find exactly what you\\'re looking for.\" name=\"description\"><meta content=\"noodp\" name=\"robots\"><meta content=\"text/html; charset=UTF-8\" http-equiv=\"Content-Type\"><meta content=\"/images/branding/googleg/1x/googleg_standard_color_128dp.png\" itemprop=\"image\"><title>Google</title><script nonce=\"6ZylFOcXgFzpWDr96IZQRw==\">(function(){window.google={kEI:\\'kvr0XoS8A8H3-gS8-rngBQ\\',kEXPI:\\'0,202123,3,4,32,1151585,5662,730,224,5104,207,3204,10,1226,364,1499,576,35,206,383,246,5,1015,113,226,196,22,429,515,532,2184,141,92,38,8,141,116,3,519,25,345,126,35,42,49,180,1122028,1197745,404,329118,1294,12383,4855,32692,15247,867,28684,9188,8384,4858,1362,9290,3022,4746,11033,1808,4020,978,4788,1,3142,5297,2054,920,873,1217,2975,6430,1142,10164,3221,235,4283,2779,917,2277,8,2796,887,706,1279,2212,239,291,149,1103,841,516,1466,56,157,4101,108,204,1135,1,3,2063,606,1839,184,1920,379,1945,244,786,1,1198,93,328,1284,16,1985,942,2247,473,1339,1787,3227,2847,5,2904,3164,6286,4454,642,2450,2458,1226,1742,3654,1275,108,591,2816,908,2,941,2614,2149,248,5419,2049,1,230,10,601,1337,666,432,3,2411,1,377,3541,705,338,466,2372,475,502,1,1538,7,440,28,130,1,2092,1993,1997,83,913,97,651,4,1528,17,417,861,380,629,224,1012,271,874,405,1259,581,20,177,69,1570,279,331,41,463,42,239,56,917,9,43,214,497,265,346,94,1424,460,43,77,418,343,438,24,14,198,7,1133,3128,1184,880,86,3,1493,877,875,35,1263,163,69,2,22,69,212,628,387,1295,1514,285,724,288,940,7,3,894,375,2,217,5,1414,152,402,2,177,60,6,353,84,1,241,1,3,81,108,15,75,174,608,636,899,21,44,72,572,67,263,41,2,336,1,732,29,36,6,169,36,5,203,80,253,214,35,43,138,299,47,89,181,8,1014,5797142,8801915,882,444,1,2,31,49,1,900,896,1,8,1,2,2551,1,889,59,736,2,561,1,4265,1,1,1,1,137,1,879,9,305,1356,97,1078,224,3,6,14,6,24,2,22,8,2,20,36,3,11,2,23961489\\',kBL:\\'Qj-y\\'};google.sn=\\'webhp\\';google.kHL=\\'en\\';})();(function(){google.lc=[];google.li=0;google.getEI=function(a){for(var c;a&&(!a.getAttribute||!(c=a.getAttribute(\"eid\")));)a=a.parentNode;return c||google.kEI};google.getLEI=function(a){for(var c=null;a&&(!a.getAttribute||!(c=a.getAttribute(\"leid\")));)a=a.parentNode;return c};google.ml=function(){return null};google.time=function(){return Date.now()};google.log=function(a,c,b,d,g){if(b=google.logUrl(a,c,b,d,g)){a=new Image;var e=google.lc,f=google.li;e[f]=a;a.onerror=a.onload=a.onabort=function(){delete e[f]};google.vel&&google.vel.lu&&google.vel.lu(b);a.src=b;google.li=f+1}};google.logUrl=function(a,c,b,d,g){var e=\"\",f=google.ls||\"\";b||-1!=c.search(\"&ei=\")||(e=\"&ei=\"+google.getEI(d),-1==c.search(\"&lei=\")&&(d=google.getLEI(d))&&(e+=\"&lei=\"+d));d=\"\";!b&&google.cshid&&-1==c.search(\"&cshid=\")&&\"slh\"!=a&&(d=\"&cshid=\"+google.cshid);b=b||\"/\"+(g||\"gen_204\")+\"?atyp=i&ct=\"+a+\"&cad=\"+c+e+f+\"&zx=\"+google.time()+d;/^http:/i.test(b)&&\"https:\"==window.location.protocol&&(google.ml(Error(\"a\"),!1,{src:b,glmm:1}),b=\"\");return b};}).call(this);(function(){google.y={};google.x=function(a,b){if(a)var c=a.id;else{do c=Math.random();while(google.y[c])}google.y[c]=[a,b];return!1};google.lm=[];google.plm=function(a){google.lm.push.apply(google.lm,a)};google.lq=[];google.load=function(a,b,c){google.lq.push([[a],b,c])};google.loadAll=function(a,b){google.lq.push([a,b])};}).call(this);google.f={};(function(){\\ndocument.documentElement.addEventListener(\"submit\",function(b){var a;if(a=b.target){var c=a.getAttribute(\"data-submitfalse\");a=\"1\"==c||\"q\"==c&&!a.elements.q.value?!0:!1}else a=!1;a&&(b.preventDefault(),b.stopPropagation())},!0);document.documentElement.addEventListener(\"click\",function(b){var a;a:{for(a=b.target;a&&a!=document.documentElement;a=a.parentElement)if(\"A\"==a.tagName){a=\"1\"==a.getAttribute(\"data-nohref\");break a}a=!1}a&&b.preventDefault()},!0);}).call(this);\\nvar a=window.location,b=a.href.indexOf(\"#\");if(0<=b){var c=a.href.substring(b+1);/(^|&)q=/.test(c)&&-1==c.indexOf(\"#\")&&a.replace(\"/search?\"+c.replace(/(^|&)fp=[^&]*/g,\"\")+\"&cad=h\")};</script><style>#gbar,#guser{font-size:13px;padding-top:1px !important;}#gbar{height:22px}#guser{padding-bottom:7px !important;text-align:right}.gbh,.gbd{border-top:1px solid #c9d7f1;font-size:1px}.gbh{height:0;position:absolute;top:24px;width:100%}@media all{.gb1{height:22px;margin-right:.5em;vertical-align:top}#gbar{float:left}}a.gb1,a.gb4{text-decoration:underline !important}a.gb1,a.gb4{color:#00c !important}.gbi .gb4{color:#dd8e27 !important}.gbf .gb4{color:#900 !important}\\n</style><style>body,td,a,p,.h{font-family:arial,sans-serif}body{margin:0;overflow-y:scroll}#gog{padding:3px 8px 0}td{line-height:.8em}.gac_m td{line-height:17px}form{margin-bottom:20px}.h{color:#36c}.q{color:#00c}.ts td{padding:0}.ts{border-collapse:collapse}em{font-weight:bold;font-style:normal}.lst{height:25px;width:496px}.gsfi,.lst{font:18px arial,sans-serif}.gsfs{font:17px arial,sans-serif}.ds{display:inline-box;display:inline-block;margin:3px 0 4px;margin-left:4px}input{font-family:inherit}body{background:#fff;color:#000}a{color:#11c;text-decoration:none}a:hover,a:active{text-decoration:underline}.fl a{color:#36c}a:visited{color:#551a8b}.sblc{padding-top:5px}.sblc a{display:block;margin:2px 0;margin-left:13px;font-size:11px}.lsbb{background:#eee;border:solid 1px;border-color:#ccc #999 #999 #ccc;height:30px}.lsbb{display:block}#fll a{display:inline-block;margin:0 12px}.lsb{background:url(/images/nav_logo229.png) 0 -261px repeat-x;border:none;color:#000;cursor:pointer;height:30px;margin:0;outline:0;font:15px arial,sans-serif;vertical-align:top}.lsb:active{background:#ccc}.lst:focus{outline:none}</style><script nonce=\"6ZylFOcXgFzpWDr96IZQRw==\"></script></head><body bgcolor=\"#fff\"><script nonce=\"6ZylFOcXgFzpWDr96IZQRw==\">(function(){var src=\\'/images/nav_logo229.png\\';var iesg=false;document.body.onload = function(){window.n && window.n();if (document.images){new Image().src=src;}\\nif (!iesg){document.f&&document.f.q.focus();document.gbqf&&document.gbqf.q.focus();}\\n}\\n})();</script><div id=\"mngb\"> <div id=gbar><nobr><b class=gb1>Search</b> <a class=gb1 href=\"https://www.google.com/imghp?hl=en&tab=wi\">Images</a> <a class=gb1 href=\"https://maps.google.com/maps?hl=en&tab=wl\">Maps</a> <a class=gb1 href=\"https://play.google.com/?hl=en&tab=w8\">Play</a> <a class=gb1 href=\"https://www.youtube.com/?gl=US&tab=w1\">YouTube</a> <a class=gb1 href=\"https://news.google.com/nwshp?hl=en&tab=wn\">News</a> <a class=gb1 href=\"https://mail.google.com/mail/?tab=wm\">Gmail</a> <a class=gb1 href=\"https://drive.google.com/?tab=wo\">Drive</a> <a class=gb1 style=\"text-decoration:none\" href=\"https://www.google.com/intl/en/about/products?tab=wh\"><u>More</u> &raquo;</a></nobr></div><div id=guser width=100%><nobr><span id=gbn class=gbi></span><span id=gbf class=gbf></span><span id=gbe></span><a href=\"http://www.google.com/history/optout?hl=en\" class=gb4>Web History</a> | <a  href=\"/preferences?hl=en\" class=gb4>Settings</a> | <a target=_top id=gb_70 href=\"https://accounts.google.com/ServiceLogin?hl=en&passive=true&continue=https://www.google.com/\" class=gb4>Sign in</a></nobr></div><div class=gbh style=left:0></div><div class=gbh style=right:0></div> </div><center><br clear=\"all\" id=\"lgpd\"><div id=\"lga\"><img alt=\"Google\" height=\"92\" src=\"/images/branding/googlelogo/1x/googlelogo_white_background_color_272x92dp.png\" style=\"padding:28px 0 14px\" width=\"272\" id=\"hplogo\"><br><br></div><form action=\"/search\" name=\"f\"><table cellpadding=\"0\" cellspacing=\"0\"><tr valign=\"top\"><td width=\"25%\">&nbsp;</td><td align=\"center\" nowrap=\"\"><input name=\"ie\" value=\"ISO-8859-1\" type=\"hidden\"><input value=\"en\" name=\"hl\" type=\"hidden\"><input name=\"source\" type=\"hidden\" value=\"hp\"><input name=\"biw\" type=\"hidden\"><input name=\"bih\" type=\"hidden\"><div class=\"ds\" style=\"height:32px;margin:4px 0\"><input class=\"lst\" style=\"margin:0;padding:5px 8px 0 6px;vertical-align:top;color:#000\" autocomplete=\"off\" value=\"\" title=\"Google Search\" maxlength=\"2048\" name=\"q\" size=\"57\"></div><br style=\"line-height:0\"><span class=\"ds\"><span class=\"lsbb\"><input class=\"lsb\" value=\"Google Search\" name=\"btnG\" type=\"submit\"></span></span><span class=\"ds\"><span class=\"lsbb\"><input class=\"lsb\" id=\"tsuid1\" value=\"I\\'m Feeling Lucky\" name=\"btnI\" type=\"submit\"><script nonce=\"6ZylFOcXgFzpWDr96IZQRw==\">(function(){var id=\\'tsuid1\\';document.getElementById(id).onclick = function(){if (this.form.q.value){this.checked = 1;if (this.form.iflsig)this.form.iflsig.disabled = false;}\\nelse top.location=\\'/doodles/\\';};})();</script><input value=\"AINFCbYAAAAAXvUIopSZv-nB-bCYJQ66mqiW1QAyKfaL\" name=\"iflsig\" type=\"hidden\"></span></span></td><td class=\"fl sblc\" align=\"left\" nowrap=\"\" width=\"25%\"><a href=\"/advanced_search?hl=en&amp;authuser=0\">Advanced search</a></td></tr></table><input id=\"gbv\" name=\"gbv\" type=\"hidden\" value=\"1\"><script nonce=\"6ZylFOcXgFzpWDr96IZQRw==\">(function(){var a,b=\"1\";if(document&&document.getElementById)if(\"undefined\"!=typeof XMLHttpRequest)b=\"2\";else if(\"undefined\"!=typeof ActiveXObject){var c,d,e=[\"MSXML2.XMLHTTP.6.0\",\"MSXML2.XMLHTTP.3.0\",\"MSXML2.XMLHTTP\",\"Microsoft.XMLHTTP\"];for(c=0;d=e[c++];)try{new ActiveXObject(d),b=\"2\"}catch(h){}}a=b;if(\"2\"==a&&-1==location.search.indexOf(\"&gbv=2\")){var f=google.gbvu,g=document.getElementById(\"gbv\");g&&(g.value=a);f&&window.setTimeout(function(){location.href=f},0)};}).call(this);</script></form><div id=\"gac_scont\"></div><div style=\"font-size:83%;min-height:3.5em\"><br></div><span id=\"footer\"><div style=\"font-size:10pt\"><div style=\"margin:19px auto;text-align:center\" id=\"fll\"><a href=\"/intl/en/ads/\">Advertising\\xa0Programs</a><a href=\"/services/\">Business Solutions</a><a href=\"/intl/en/about.html\">About Google</a></div></div><p style=\"font-size:8pt;color:#767676\">&copy; 2020 - <a href=\"/intl/en/policies/privacy/\">Privacy</a> - <a href=\"/intl/en/policies/terms/\">Terms</a></p></span></center><script nonce=\"6ZylFOcXgFzpWDr96IZQRw==\">(function(){window.google.cdo={height:0,width:0};(function(){var a=window.innerWidth,b=window.innerHeight;if(!a||!b){var c=window.document,d=\"CSS1Compat\"==c.compatMode?c.documentElement:c.body;a=d.clientWidth;b=d.clientHeight}a&&b&&(a!=google.cdo.width||b!=google.cdo.height)&&google.log(\"\",\"\",\"/client_204?&atyp=i&biw=\"+a+\"&bih=\"+b+\"&ei=\"+google.kEI);}).call(this);})();(function(){var u=\\'/xjs/_/js/k\\\\x3dxjs.hp.en_US.jDPQ2m9hh5Y.O/m\\\\x3dsb_he,d/am\\\\x3dAE-wOQ/d\\\\x3d1/rs\\\\x3dACT90oFK_tWTtDlyn-82Nm1ioRoyZZ2Sug\\';\\nsetTimeout(function(){var b=document;var a=\"SCRIPT\";\"application/xhtml+xml\"===b.contentType&&(a=a.toLowerCase());a=b.createElement(a);a.src=u;google.timers&&google.timers.load&&google.tick&&google.tick(\"load\",\"xjsls\");document.body.appendChild(a)},0);})();(function(){window.google.xjsu=\\'/xjs/_/js/k\\\\x3dxjs.hp.en_US.jDPQ2m9hh5Y.O/m\\\\x3dsb_he,d/am\\\\x3dAE-wOQ/d\\\\x3d1/rs\\\\x3dACT90oFK_tWTtDlyn-82Nm1ioRoyZZ2Sug\\';})();function _DumpException(e){throw e;}\\nfunction _F_installCss(c){}\\n(function(){google.jl={dw:false,em:[],emw:false,lls:\\'default\\',pdt:0,snet:true,uwp:true};})();(function(){var pmc=\\'{\\\\x22d\\\\x22:{},\\\\x22sb_he\\\\x22:{\\\\x22agen\\\\x22:true,\\\\x22cgen\\\\x22:true,\\\\x22client\\\\x22:\\\\x22heirloom-hp\\\\x22,\\\\x22dh\\\\x22:true,\\\\x22dhqt\\\\x22:true,\\\\x22ds\\\\x22:\\\\x22\\\\x22,\\\\x22ffql\\\\x22:\\\\x22en\\\\x22,\\\\x22fl\\\\x22:true,\\\\x22host\\\\x22:\\\\x22google.com\\\\x22,\\\\x22isbh\\\\x22:28,\\\\x22jsonp\\\\x22:true,\\\\x22msgs\\\\x22:{\\\\x22cibl\\\\x22:\\\\x22Clear Search\\\\x22,\\\\x22dym\\\\x22:\\\\x22Did you mean:\\\\x22,\\\\x22lcky\\\\x22:\\\\x22I\\\\\\\\u0026#39;m Feeling Lucky\\\\x22,\\\\x22lml\\\\x22:\\\\x22Learn more\\\\x22,\\\\x22oskt\\\\x22:\\\\x22Input tools\\\\x22,\\\\x22psrc\\\\x22:\\\\x22This search was removed from your \\\\\\\\u003Ca href\\\\x3d\\\\\\\\\\\\x22/history\\\\\\\\\\\\x22\\\\\\\\u003EWeb History\\\\\\\\u003C/a\\\\\\\\u003E\\\\x22,\\\\x22psrl\\\\x22:\\\\x22Remove\\\\x22,\\\\x22sbit\\\\x22:\\\\x22Search by image\\\\x22,\\\\x22srch\\\\x22:\\\\x22Google Search\\\\x22},\\\\x22ovr\\\\x22:{},\\\\x22pq\\\\x22:\\\\x22\\\\x22,\\\\x22refpd\\\\x22:true,\\\\x22rfs\\\\x22:[],\\\\x22sbpl\\\\x22:16,\\\\x22sbpr\\\\x22:16,\\\\x22scd\\\\x22:10,\\\\x22stok\\\\x22:\\\\x22y1QpBOuEIwkp_bwUMHyG2rNTIa4\\\\x22,\\\\x22uhde\\\\x22:false}}\\';google.pmc=JSON.parse(pmc);})();</script>        </body></html>'\n"
     ]
    }
   ],
   "source": [
    "data = weburl.read()\n",
    "print(data)"
   ]
  },
  {
   "cell_type": "code",
   "execution_count": 41,
   "metadata": {},
   "outputs": [],
   "source": [
    "#working with josn data\n",
    "#JSON: Java script object notations"
   ]
  },
  {
   "cell_type": "code",
   "execution_count": 76,
   "metadata": {},
   "outputs": [],
   "source": [
    "import json"
   ]
  },
  {
   "cell_type": "code",
   "execution_count": 77,
   "metadata": {},
   "outputs": [
    {
     "name": "stdout",
     "output_type": "stream",
     "text": [
      "result code:200\n",
      "USGS Magnitude 2.5+ Earthquakes, Past Day\n",
      "77 Events recorded\n",
      "17km N of Olancha, CA\n",
      "28 km NW of Stanley, Idaho\n",
      "13 km NW of Gölmarmara, Turkey\n",
      "32 km SSW of Cantwell, Alaska\n",
      "34 km ESE of Santiago, Philippines\n",
      "4 km ESE of Elmendorf Air Force Base, Alaska\n",
      "26 km WSW of Mono City, California\n",
      "177 km SSE of Alo, Wallis and Futuna\n",
      "129 km SSW of Gambiran Satu, Indonesia\n",
      "3 km WSW of Guánica, Puerto Rico\n",
      "Kermadec Islands region\n",
      "5 km SSE of Guánica, Puerto Rico\n",
      "17km SSE of Lone Pine, CA\n",
      "South Sandwich Islands region\n",
      "132 km E of Chignik, Alaska\n",
      "280 km SE of Hotan, China\n",
      "Izu Islands, Japan region\n",
      "3 km WSW of Guánica, Puerto Rico\n",
      "8 km ESE of La Parguera, Puerto Rico\n",
      "2 km WSW of Indios, Puerto Rico\n",
      "278 km SE of Hotan, China\n",
      "280 km SE of Hotan, China\n",
      "4 km NW of Lahoma, Oklahoma\n",
      "18km N of Olancha, CA\n",
      "18km N of Olancha, CA\n",
      "10 km SE of La Parguera, Puerto Rico\n",
      "18km N of Olancha, CA\n",
      "171 km E of Kurilsk, Russia\n",
      "30 km SSE of Mina, Nevada\n",
      "274 km SE of Hotan, China\n",
      "279 km SE of Hotan, China\n",
      "128 km WSW of Hihifo, Tonga\n",
      "277 km SE of Hotan, China\n",
      "5 km WSW of Fuig, Puerto Rico\n",
      "29 km SSE of Mina, Nevada\n",
      "4 km SW of Indios, Puerto Rico\n",
      "22km NNW of Borrego Springs, CA\n",
      "17km SSE of Lone Pine, CA\n",
      "southeast of Easter Island\n",
      "southeast of Easter Island\n",
      "15 km SSE of Nueve de Julio, Argentina\n",
      "17km SSE of Lone Pine, CA\n",
      "18km SSE of Lone Pine, CA\n",
      "234 km E of Levuka, Fiji\n",
      "1 km SSW of Or?ova, Romania\n",
      "4 km NNW of Berry, Alabama\n",
      "62 km WSW of Ishigaki, Japan\n",
      "18km SSE of Lone Pine, CA\n",
      "18km SSE of Lone Pine, CA\n",
      "5 km SSW of Indios, Puerto Rico\n",
      "15km SE of Lone Pine, CA\n",
      "24km WSW of Ferndale, CA\n",
      "62 km ESE of Yakutat, Alaska\n",
      "18km NNE of Olancha, CA\n",
      "26 km NW of Stanley, Idaho\n",
      "1 km S of Guánica, Puerto Rico\n",
      "27 km NW of Stanley, Idaho\n",
      "1 km NNE of Yauco, Puerto Rico\n",
      "southern East Pacific Rise\n",
      "28 km ENE of Boulder Town, Utah\n",
      "1 km ENE of P?hala, Hawaii\n",
      "4 km S of P?hala, Hawaii\n",
      "65 km WNW of La Ligua, Chile\n",
      "174 km ESE of Kokopo, Papua New Guinea\n",
      "1 km WNW of Stanley, Idaho\n",
      "6 km S of Indios, Puerto Rico\n",
      "14km SE of Lone Pine, CA\n",
      "14km NNE of Borrego Springs, CA\n",
      "28 km NW of Stanley, Idaho\n",
      "18km N of Olancha, CA\n",
      "33 km NW of Stanley, Idaho\n",
      "25 km NW of Stanley, Idaho\n",
      "11 km SSE of Özalp, Turkey\n",
      "24 km NW of Stanley, Idaho\n",
      "178 km E of Atka, Alaska\n",
      "4 km WSW of Guánica, Puerto Rico\n",
      "18km NNE of Olancha, CA\n",
      "--------\n",
      "\n",
      "5.2 13 km NW of Gölmarmara, Turkey\n",
      "4.7 34 km ESE of Santiago, Philippines\n",
      "4.4 177 km SSE of Alo, Wallis and Futuna\n",
      "4.3 129 km SSW of Gambiran Satu, Indonesia\n",
      "4.6 Kermadec Islands region\n",
      "5.3 South Sandwich Islands region\n",
      "4.7 280 km SE of Hotan, China\n",
      "4.2 Izu Islands, Japan region\n",
      "4.3 278 km SE of Hotan, China\n",
      "4.3 280 km SE of Hotan, China\n",
      "4.5 171 km E of Kurilsk, Russia\n",
      "5.0 274 km SE of Hotan, China\n",
      "6.4 279 km SE of Hotan, China\n",
      "4.3 128 km WSW of Hihifo, Tonga\n",
      "4.7 277 km SE of Hotan, China\n",
      "4.7 southeast of Easter Island\n",
      "5.1 southeast of Easter Island\n",
      "4.4 15 km SSE of Nueve de Julio, Argentina\n",
      "4.5 234 km E of Levuka, Fiji\n",
      "4.5 1 km SSW of Or?ova, Romania\n",
      "4.6 62 km WSW of Ishigaki, Japan\n",
      "4.8 southern East Pacific Rise\n",
      "5.2 65 km WNW of La Ligua, Chile\n",
      "4.8 174 km ESE of Kokopo, Papua New Guinea\n",
      "5.4 11 km SSE of Özalp, Turkey\n",
      "4.5 178 km E of Atka, Alaska\n",
      "--------\n",
      "\n",
      "Events that have felt\n",
      "5.2 13 km NW of Gölmarmara, Turkey reported 9 times\n",
      "2.5 4 km ESE of Elmendorf Air Force Base, Alaska reported 1 times\n",
      "3.1 4 km NW of Lahoma, Oklahoma reported 1 times\n",
      "3.0 22km NNW of Borrego Springs, CA reported 21 times\n",
      "3.1 17km SSE of Lone Pine, CA reported 4 times\n",
      "2.8 17km SSE of Lone Pine, CA reported 1 times\n",
      "4.5 1 km SSW of Or?ova, Romania reported 1 times\n",
      "2.9 4 km NNW of Berry, Alabama reported 2 times\n",
      "2.7 18km SSE of Lone Pine, CA reported 1 times\n",
      "2.5 1 km NNE of Yauco, Puerto Rico reported 2 times\n",
      "3.1 28 km ENE of Boulder Town, Utah reported 9 times\n",
      "5.2 65 km WNW of La Ligua, Chile reported 55 times\n",
      "3.5 14km SE of Lone Pine, CA reported 16 times\n",
      "2.8 14km NNE of Borrego Springs, CA reported 1 times\n",
      "3.0 18km N of Olancha, CA reported 1 times\n",
      "5.4 11 km SSE of Özalp, Turkey reported 7 times\n"
     ]
    }
   ],
   "source": [
    "def printResults(data):\n",
    "    theJSON = json.loads(data)\n",
    "    \n",
    "    if \"title\" in theJSON[\"metadata\"]:\n",
    "        print(theJSON[\"metadata\"][\"title\"])\n",
    "        \n",
    "    count = theJSON[\"metadata\"]['count']\n",
    "    print(str(count)+ \" Events recorded\")\n",
    "    \n",
    "    for i in theJSON[\"features\"]:\n",
    "        print(i['properties']['place'])\n",
    "    print('--------\\n')  \n",
    "    \n",
    "    for i in theJSON[\"features\"]:\n",
    "        if i[\"properties\"]['mag'] >= 4.0:\n",
    "            print(\"%2.1f\" % i[\"properties\"]['mag'],i['properties']['place'])\n",
    "    print('--------\\n')  \n",
    "    \n",
    "    print(\"Events that have felt\")\n",
    "    for i in theJSON[\"features\"]:\n",
    "        feltReported = i[\"properties\"][\"felt\"]\n",
    "        if feltReported != None:\n",
    "            if feltReported > 0:\n",
    "                print(\"%2.1f\" % i[\"properties\"]['mag'],i['properties']['place'], \"reported \"+ str(feltReported) + \" times\")\n",
    "    \n",
    "    \n",
    "    \n",
    "def main():\n",
    "    \n",
    "    urldata = \"http://earthquake.usgs.gov/earthquakes/feed/v1.0/summary/2.5_day.geojson\"\n",
    "    weburl = urllib.request.urlopen(urldata)\n",
    "    print(\"result code:\" +str(weburl.getcode()))\n",
    "\n",
    "    if (weburl.getcode() == 200):\n",
    "        data = weburl.read()\n",
    "        printResults(data)\n",
    "    else:\n",
    "        (\"Print cannot results, error received\")\n",
    "        \n",
    "if __name__ == \"__main__\":\n",
    "    main()\n",
    "    "
   ]
  },
  {
   "cell_type": "code",
   "execution_count": 56,
   "metadata": {},
   "outputs": [],
   "source": [
    "#Parsing and Processing HTML"
   ]
  },
  {
   "cell_type": "code",
   "execution_count": 65,
   "metadata": {},
   "outputs": [
    {
     "name": "stdout",
     "output_type": "stream",
     "text": [
      "Encountered tag: html\n",
      "\tAt line: 2 positions 0\n",
      "\tAttributes:\n",
      "\t lang = en\n",
      "Encountered tag: head\n",
      "\tAt line: 3 positions 2\n",
      "Encountered tag: meta\n",
      "\tAt line: 4 positions 4\n",
      "\tAttributes:\n",
      "\t charset = utf-8\n",
      "Encountered tag: meta\n",
      "\tAt line: 4 positions 4\n",
      "Encountered tag: title\n",
      "\tAt line: 5 positions 4\n",
      "Encountered Data: Sample HTML Document\n",
      "\tAt line: 5 positions 11\n",
      "Encountered tag: title\n",
      "\tAt line: 5 positions 31\n",
      "Encountered tag: meta\n",
      "\tAt line: 6 positions 4\n",
      "\tAttributes:\n",
      "\t name = description\n",
      "\t content = This is a sample HTML file\n",
      "Encountered tag: meta\n",
      "\tAt line: 6 positions 4\n",
      "Encountered tag: meta\n",
      "\tAt line: 7 positions 4\n",
      "\tAttributes:\n",
      "\t name = author\n",
      "\t content = Administrator\n",
      "Encountered tag: meta\n",
      "\tAt line: 7 positions 4\n",
      "Encountered tag: meta\n",
      "\tAt line: 8 positions 4\n",
      "\tAttributes:\n",
      "\t name = viewport\n",
      "\t content = width=device-width; initial-scale=1.0\n",
      "Encountered tag: meta\n",
      "\tAt line: 8 positions 4\n",
      "Encountered comment:  Replace favicon.ico & apple-touch-icon.png in the root of your domain and delete these references \n",
      "\tAt line: 9 positions 4\n",
      "Encountered tag: link\n",
      "\tAt line: 10 positions 4\n",
      "\tAttributes:\n",
      "\t rel = shortcut icon\n",
      "\t href = /favicon.ico\n",
      "Encountered tag: link\n",
      "\tAt line: 10 positions 4\n",
      "Encountered tag: link\n",
      "\tAt line: 11 positions 4\n",
      "\tAttributes:\n",
      "\t rel = apple-touch-icon\n",
      "\t href = /apple-touch-icon.png\n",
      "Encountered tag: link\n",
      "\tAt line: 11 positions 4\n",
      "Encountered tag: head\n",
      "\tAt line: 12 positions 2\n",
      "Encountered tag: body\n",
      "\tAt line: 14 positions 2\n",
      "Encountered tag: div\n",
      "\tAt line: 15 positions 4\n",
      "Encountered tag: header\n",
      "\tAt line: 16 positions 6\n",
      "Encountered tag: h1\n",
      "\tAt line: 17 positions 8\n",
      "Encountered Data: HTML Sample File\n",
      "\tAt line: 17 positions 12\n",
      "Encountered tag: h1\n",
      "\tAt line: 17 positions 28\n",
      "Encountered tag: header\n",
      "\tAt line: 18 positions 6\n",
      "Encountered tag: nav\n",
      "\tAt line: 19 positions 6\n",
      "Encountered tag: p\n",
      "\tAt line: 20 positions 8\n",
      "Encountered tag: a\n",
      "\tAt line: 21 positions 10\n",
      "\tAttributes:\n",
      "\t href = /\n",
      "Encountered Data: Home\n",
      "\tAt line: 21 positions 22\n",
      "Encountered tag: a\n",
      "\tAt line: 21 positions 26\n",
      "Encountered tag: p\n",
      "\tAt line: 22 positions 8\n",
      "Encountered tag: p\n",
      "\tAt line: 23 positions 8\n",
      "Encountered tag: a\n",
      "\tAt line: 24 positions 10\n",
      "\tAttributes:\n",
      "\t href = /contact\n",
      "Encountered Data: Contact\n",
      "\tAt line: 24 positions 29\n",
      "Encountered tag: a\n",
      "\tAt line: 24 positions 36\n",
      "Encountered tag: p\n",
      "\tAt line: 25 positions 8\n",
      "Encountered tag: nav\n",
      "\tAt line: 26 positions 6\n",
      "Encountered tag: div\n",
      "\tAt line: 27 positions 6\n",
      "Encountered tag: div\n",
      "\tAt line: 29 positions 6\n",
      "Encountered tag: footer\n",
      "\tAt line: 30 positions 6\n",
      "Encountered tag: p\n",
      "\tAt line: 31 positions 8\n",
      "Encountered Data: © Copyright by Administrator\n",
      "\tAt line: 31 positions 11\n",
      "Encountered tag: p\n",
      "\tAt line: 31 positions 44\n",
      "Encountered tag: footer\n",
      "\tAt line: 32 positions 6\n",
      "Encountered tag: div\n",
      "\tAt line: 33 positions 4\n",
      "Encountered tag: body\n",
      "\tAt line: 34 positions 2\n",
      "Encountered tag: html\n",
      "\tAt line: 35 positions 0\n",
      "Meta tags found:4\n"
     ]
    }
   ],
   "source": [
    "from html.parser import HTMLParser\n",
    "metacount = 0\n",
    "class MyHTMLParser(HTMLParser):\n",
    "    \n",
    "    def handle_comment(self, data):\n",
    "        print(\"Encountered comment:\", data)\n",
    "        pos = self.getpos()\n",
    "        print(\"\\tAt line:\", pos[0], \"positions\" , pos[1])\n",
    "        \n",
    "    def handle_starttag(self, tag, attrs):\n",
    "        global metacount\n",
    "        if tag == \"meta\":\n",
    "            metacount += 1\n",
    "        print(\"Encountered tag:\", tag)\n",
    "        pos = self.getpos()\n",
    "        print(\"\\tAt line:\", pos[0], \"positions\" , pos[1])\n",
    "        \n",
    "        if attrs.__len__() > 0:\n",
    "            print(\"\\tAttributes:\")\n",
    "            for a in attrs:\n",
    "                print(\"\\t\", a[0],\"=\", a[1])\n",
    "        \n",
    "    def handle_endtag(self, tag):\n",
    "        print(\"Encountered tag:\", tag)\n",
    "        pos = self.getpos()\n",
    "        print(\"\\tAt line:\", pos[0], \"positions\" , pos[1])\n",
    "        \n",
    "    def handle_data(self, data):\n",
    "        if (data.isspace()):\n",
    "            return\n",
    "        print(\"Encountered Data:\", data)\n",
    "        pos = self.getpos()\n",
    "        print(\"\\tAt line:\", pos[0], \"positions\" , pos[1])\n",
    "        \n",
    "def main():\n",
    "    parser = MyHTMLParser()\n",
    "    f = open(\"/Users/poojapatel/Desktop/Ex_Files_Learning_Python/Exercise Files/Ch5/samplehtml.html\")\n",
    "    if f.mode == \"r\":\n",
    "        contents = f.read()\n",
    "        parser.feed(contents)\n",
    "    print(\"Meta tags found:\" + str(metacount) )\n",
    "        \n",
    "if __name__ == \"__main__\":\n",
    "    main()"
   ]
  },
  {
   "cell_type": "code",
   "execution_count": 66,
   "metadata": {},
   "outputs": [],
   "source": [
    "#Manipulating HTML"
   ]
  },
  {
   "cell_type": "code",
   "execution_count": 67,
   "metadata": {},
   "outputs": [],
   "source": [
    "import xml.dom.minidom"
   ]
  },
  {
   "cell_type": "code",
   "execution_count": 71,
   "metadata": {},
   "outputs": [
    {
     "name": "stdout",
     "output_type": "stream",
     "text": [
      "#document\n",
      "person\n",
      "4 Skills: \n",
      "JavaScript\n",
      "Python\n",
      "C#\n",
      "HTML\n",
      "5 Skills: \n",
      "JavaScript\n",
      "Python\n",
      "C#\n",
      "HTML\n",
      "jQuery\n"
     ]
    }
   ],
   "source": [
    "def main():\n",
    "    doc = xml.dom.minidom.parse(\"/Users/poojapatel/Desktop/Ex_Files_Learning_Python/Exercise Files/Ch5/samplexml.xml\")\n",
    "    print(doc.nodeName)\n",
    "    print(doc.firstChild.tagName)\n",
    "    skills = doc.getElementsByTagName(\"skill\")\n",
    "    print(\"%d Skills: \" % skills.length)\n",
    "    for skill in skills:\n",
    "        print(skill.getAttribute(\"name\"))\n",
    "        \n",
    "    newSkill = doc.createElement(\"skill\")\n",
    "    newSkill.setAttribute(\"name\", \"jQuery\")\n",
    "    doc.firstChild.appendChild(newSkill)\n",
    "    \n",
    "    skills = doc.getElementsByTagName(\"skill\")\n",
    "    print(\"%d Skills: \" % skills.length)\n",
    "    for skill in skills:\n",
    "        print(skill.getAttribute(\"name\"))\n",
    "    \n",
    "\n",
    "if __name__ == \"__main__\":\n",
    "    main()"
   ]
  },
  {
   "cell_type": "code",
   "execution_count": 73,
   "metadata": {},
   "outputs": [],
   "source": [
    "# Can you print all cities and states in this JSON data, and what approach will you take if you can?"
   ]
  },
  {
   "cell_type": "code",
   "execution_count": 79,
   "metadata": {},
   "outputs": [],
   "source": [
    "def printResults(data):\n",
    "    theJSON = json.loads(data)\n",
    "\n",
    "    for i in theJSON:\n",
    "        for j in i[\"country\"]:\n",
    "            [ { \"country\": [\n",
    "                { \"city\": \"New York\", \"state\": \"NY\" },\n",
    "                { \"city\": \"Boston\", \"state\": \"MA\" }\n",
    "          ]},\n",
    "                { \"country\": [\n",
    "                { \"city\": \"Quebec\", \"state\": \"QC\" },\n",
    "                { \"city\": \"Toronto\", \"state\": \"ON\" }\n",
    "            ]} ]"
   ]
  },
  {
   "cell_type": "code",
   "execution_count": 80,
   "metadata": {},
   "outputs": [
    {
     "ename": "FileNotFoundError",
     "evalue": "[Errno 2] No such file or directory: 'my.xml'",
     "output_type": "error",
     "traceback": [
      "\u001b[0;31m---------------------------------------------------------------------------\u001b[0m",
      "\u001b[0;31mFileNotFoundError\u001b[0m                         Traceback (most recent call last)",
      "\u001b[0;32m<ipython-input-80-090d17c06bb2>\u001b[0m in \u001b[0;36m<module>\u001b[0;34m\u001b[0m\n\u001b[1;32m      2\u001b[0m \u001b[0;34m\u001b[0m\u001b[0m\n\u001b[1;32m      3\u001b[0m \u001b[0;34m\u001b[0m\u001b[0m\n\u001b[0;32m----> 4\u001b[0;31m \u001b[0mdoc\u001b[0m \u001b[0;34m=\u001b[0m \u001b[0mxml\u001b[0m\u001b[0;34m.\u001b[0m\u001b[0mdom\u001b[0m\u001b[0;34m.\u001b[0m\u001b[0mminidom\u001b[0m\u001b[0;34m.\u001b[0m\u001b[0mparse\u001b[0m\u001b[0;34m(\u001b[0m\u001b[0;34m\"my.xml\"\u001b[0m\u001b[0;34m)\u001b[0m\u001b[0;34m\u001b[0m\u001b[0;34m\u001b[0m\u001b[0m\n\u001b[0m\u001b[1;32m      5\u001b[0m \u001b[0mnewItem\u001b[0m \u001b[0;34m=\u001b[0m \u001b[0mdoc\u001b[0m\u001b[0;34m.\u001b[0m\u001b[0mcreateElement\u001b[0m\u001b[0;34m(\u001b[0m\u001b[0;34m\"item\"\u001b[0m\u001b[0;34m)\u001b[0m\u001b[0;34m\u001b[0m\u001b[0;34m\u001b[0m\u001b[0m\n\u001b[1;32m      6\u001b[0m \u001b[0mnewItem\u001b[0m\u001b[0;34m.\u001b[0m\u001b[0msetAttribute\u001b[0m\u001b[0;34m(\u001b[0m\u001b[0;34m\"color\"\u001b[0m\u001b[0;34m,\u001b[0m \u001b[0;34m\"yellow\"\u001b[0m\u001b[0;34m)\u001b[0m\u001b[0;34m\u001b[0m\u001b[0;34m\u001b[0m\u001b[0m\n",
      "\u001b[0;32m~/anaconda3/lib/python3.6/xml/dom/minidom.py\u001b[0m in \u001b[0;36mparse\u001b[0;34m(file, parser, bufsize)\u001b[0m\n\u001b[1;32m   1956\u001b[0m     \u001b[0;32mif\u001b[0m \u001b[0mparser\u001b[0m \u001b[0;32mis\u001b[0m \u001b[0;32mNone\u001b[0m \u001b[0;32mand\u001b[0m \u001b[0;32mnot\u001b[0m \u001b[0mbufsize\u001b[0m\u001b[0;34m:\u001b[0m\u001b[0;34m\u001b[0m\u001b[0;34m\u001b[0m\u001b[0m\n\u001b[1;32m   1957\u001b[0m         \u001b[0;32mfrom\u001b[0m \u001b[0mxml\u001b[0m\u001b[0;34m.\u001b[0m\u001b[0mdom\u001b[0m \u001b[0;32mimport\u001b[0m \u001b[0mexpatbuilder\u001b[0m\u001b[0;34m\u001b[0m\u001b[0;34m\u001b[0m\u001b[0m\n\u001b[0;32m-> 1958\u001b[0;31m         \u001b[0;32mreturn\u001b[0m \u001b[0mexpatbuilder\u001b[0m\u001b[0;34m.\u001b[0m\u001b[0mparse\u001b[0m\u001b[0;34m(\u001b[0m\u001b[0mfile\u001b[0m\u001b[0;34m)\u001b[0m\u001b[0;34m\u001b[0m\u001b[0;34m\u001b[0m\u001b[0m\n\u001b[0m\u001b[1;32m   1959\u001b[0m     \u001b[0;32melse\u001b[0m\u001b[0;34m:\u001b[0m\u001b[0;34m\u001b[0m\u001b[0;34m\u001b[0m\u001b[0m\n\u001b[1;32m   1960\u001b[0m         \u001b[0;32mfrom\u001b[0m \u001b[0mxml\u001b[0m\u001b[0;34m.\u001b[0m\u001b[0mdom\u001b[0m \u001b[0;32mimport\u001b[0m \u001b[0mpulldom\u001b[0m\u001b[0;34m\u001b[0m\u001b[0;34m\u001b[0m\u001b[0m\n",
      "\u001b[0;32m~/anaconda3/lib/python3.6/xml/dom/expatbuilder.py\u001b[0m in \u001b[0;36mparse\u001b[0;34m(file, namespaces)\u001b[0m\n\u001b[1;32m    908\u001b[0m \u001b[0;34m\u001b[0m\u001b[0m\n\u001b[1;32m    909\u001b[0m     \u001b[0;32mif\u001b[0m \u001b[0misinstance\u001b[0m\u001b[0;34m(\u001b[0m\u001b[0mfile\u001b[0m\u001b[0;34m,\u001b[0m \u001b[0mstr\u001b[0m\u001b[0;34m)\u001b[0m\u001b[0;34m:\u001b[0m\u001b[0;34m\u001b[0m\u001b[0;34m\u001b[0m\u001b[0m\n\u001b[0;32m--> 910\u001b[0;31m         \u001b[0;32mwith\u001b[0m \u001b[0mopen\u001b[0m\u001b[0;34m(\u001b[0m\u001b[0mfile\u001b[0m\u001b[0;34m,\u001b[0m \u001b[0;34m'rb'\u001b[0m\u001b[0;34m)\u001b[0m \u001b[0;32mas\u001b[0m \u001b[0mfp\u001b[0m\u001b[0;34m:\u001b[0m\u001b[0;34m\u001b[0m\u001b[0;34m\u001b[0m\u001b[0m\n\u001b[0m\u001b[1;32m    911\u001b[0m             \u001b[0mresult\u001b[0m \u001b[0;34m=\u001b[0m \u001b[0mbuilder\u001b[0m\u001b[0;34m.\u001b[0m\u001b[0mparseFile\u001b[0m\u001b[0;34m(\u001b[0m\u001b[0mfp\u001b[0m\u001b[0;34m)\u001b[0m\u001b[0;34m\u001b[0m\u001b[0;34m\u001b[0m\u001b[0m\n\u001b[1;32m    912\u001b[0m     \u001b[0;32melse\u001b[0m\u001b[0;34m:\u001b[0m\u001b[0;34m\u001b[0m\u001b[0;34m\u001b[0m\u001b[0m\n",
      "\u001b[0;31mFileNotFoundError\u001b[0m: [Errno 2] No such file or directory: 'my.xml'"
     ]
    }
   ],
   "source": [
    "# Given the XML below, how will you add a third item to the list that has a yellow color and a small size?\n",
    "\n",
    "\n",
    "doc = xml.dom.minidom.parse(\"my.xml\")\n",
    "newItem = doc.createElement(\"item\")\n",
    "newItem.setAttribute(\"color\", \"yellow\")\n",
    "newItem.setAttribute(\"size\", \"small\")\n",
    "doc.firstChild.appendChild(newItem)"
   ]
  },
  {
   "cell_type": "code",
   "execution_count": 82,
   "metadata": {},
   "outputs": [
    {
     "ename": "NameError",
     "evalue": "name 'theJSON' is not defined",
     "output_type": "error",
     "traceback": [
      "\u001b[0;31m---------------------------------------------------------------------------\u001b[0m",
      "\u001b[0;31mNameError\u001b[0m                                 Traceback (most recent call last)",
      "\u001b[0;32m<ipython-input-82-a0e74bf292b2>\u001b[0m in \u001b[0;36m<module>\u001b[0;34m\u001b[0m\n\u001b[1;32m     15\u001b[0m }\n\u001b[1;32m     16\u001b[0m \u001b[0;34m\u001b[0m\u001b[0m\n\u001b[0;32m---> 17\u001b[0;31m \u001b[0;32mfor\u001b[0m \u001b[0mi\u001b[0m \u001b[0;32min\u001b[0m \u001b[0mtheJSON\u001b[0m\u001b[0;34m[\u001b[0m\u001b[0;34m\"skills\"\u001b[0m\u001b[0;34m]\u001b[0m\u001b[0;34m:\u001b[0m\u001b[0;34m\u001b[0m\u001b[0;34m\u001b[0m\u001b[0m\n\u001b[0m\u001b[1;32m     18\u001b[0m     \u001b[0mprint\u001b[0m\u001b[0;34m(\u001b[0m\u001b[0mi\u001b[0m\u001b[0;34m[\u001b[0m\u001b[0;34m\"name\"\u001b[0m\u001b[0;34m]\u001b[0m\u001b[0;34m)\u001b[0m\u001b[0;34m\u001b[0m\u001b[0;34m\u001b[0m\u001b[0m\n",
      "\u001b[0;31mNameError\u001b[0m: name 'theJSON' is not defined"
     ]
    }
   ],
   "source": [
    "# Given the following JSON data stored in a theJSON object, how can you list only the skill names?\n",
    "\n",
    "\n",
    "{\n",
    "    \"name\": \"John\",\n",
    "    \"title\": \"Python Developer\",\n",
    "    \"skills\": [{\n",
    "        \"name\": \"coding\",\n",
    "        \"level\": \"expert\"\n",
    "        },\n",
    "        {\n",
    "        \"name\": \"documentation\",\n",
    "        \"level\": \"basic\"\n",
    "    }]\n",
    "}\n",
    "\n",
    "for i in theJSON[\"skills\"]:\n",
    "    print(i[\"name\"])"
   ]
  },
  {
   "cell_type": "code",
   "execution_count": null,
   "metadata": {},
   "outputs": [],
   "source": []
  }
 ],
 "metadata": {
  "kernelspec": {
   "display_name": "Python 3",
   "language": "python",
   "name": "python3"
  },
  "language_info": {
   "codemirror_mode": {
    "name": "ipython",
    "version": 3
   },
   "file_extension": ".py",
   "mimetype": "text/x-python",
   "name": "python",
   "nbconvert_exporter": "python",
   "pygments_lexer": "ipython3",
   "version": "3.6.8"
  }
 },
 "nbformat": 4,
 "nbformat_minor": 2
}
